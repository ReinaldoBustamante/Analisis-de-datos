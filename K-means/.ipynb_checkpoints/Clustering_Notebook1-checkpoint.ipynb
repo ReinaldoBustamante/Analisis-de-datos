{
 "cells": [
  {
   "cell_type": "markdown",
   "metadata": {},
   "source": [
    "### Notebook 1:  Clustering con K-means\n",
    "En este notebook vamos a implementar el algoritmo de clustering K-means en R. El objetivo es entender como funciona este algoritmo y  aprender a utilizarlo con un ejemplo simple. Se incluye además la estrategia para definir el número de grupos k. Al final se propone un ejercicio con nuevos datos, con el fin de aprender a utilizar el algoritmo. "
   ]
  },
  {
   "cell_type": "code",
   "execution_count": 35,
   "metadata": {},
   "outputs": [],
   "source": [
    "#install.packages(\"cluster\")\n",
    "#install.packages(\"corrplot\")"
   ]
  },
  {
   "cell_type": "code",
   "execution_count": 36,
   "metadata": {},
   "outputs": [
    {
     "name": "stderr",
     "output_type": "stream",
     "text": [
      "Warning message:\n",
      "\"package 'corrplot' was built under R version 4.0.3\"\n",
      "corrplot 0.84 loaded\n",
      "\n"
     ]
    },
    {
     "name": "stdout",
     "output_type": "stream",
     "text": [
      "           WATER PROTEIN  FAT LACTOSE  ASH\n",
      "HORSE       90.1     2.6  1.0     6.9 0.35\n",
      "ORANGUTAN   88.5     1.4  3.5     6.0 0.24\n",
      "MONKEY      88.4     2.2  2.7     6.4 0.18\n",
      "DONKEY      90.3     1.7  1.4     6.2 0.40\n",
      "HIPPO       90.4     0.6  4.5     4.4 0.10\n",
      "CAMEL       87.7     3.5  3.4     4.8 0.71\n",
      "BISON       86.9     4.8  1.7     5.7 0.90\n",
      "BUFFALO     82.1     5.9  7.9     4.7 0.78\n",
      "GUINEA_PIG  81.9     7.4  7.2     2.7 0.85\n",
      "CAT         81.6    10.1  6.3     4.4 0.75\n",
      "FOX         81.6     6.6  5.9     4.9 0.93\n",
      "LLAMA       86.5     3.9  3.2     5.6 0.80\n",
      "MULE        90.0     2.0  1.8     5.5 0.47\n",
      "PIG         82.8     7.1  5.1     3.7 1.10\n",
      "ZEBRA       86.2     3.0  4.8     5.3 0.70\n",
      "SHEEP       82.0     5.6  6.4     4.7 0.91\n",
      "DOG         76.3     9.3  9.5     3.0 1.20\n",
      "ELEPHANT    70.7     3.6 17.6     5.6 0.63\n",
      "RABBIT      71.3    12.3 13.1     1.9 2.30\n",
      "RAT         72.5     9.2 12.6     3.3 1.40\n",
      "DEER        65.9    10.4 19.7     2.6 1.40\n",
      "REINDEER    64.8    10.7 20.3     2.5 1.40\n",
      "WHALE       64.8    11.1 21.2     1.6 1.70\n",
      "SEAL        46.4     9.7 42.0     0.0 0.85\n",
      "DOLPHIN     44.9    10.6 34.9     0.9 0.53\n"
     ]
    },
    {
     "data": {
      "text/plain": [
       "     WATER          PROTEIN            FAT           LACTOSE     \n",
       " Min.   :44.90   Min.   : 0.600   Min.   : 1.00   Min.   :0.000  \n",
       " 1st Qu.:71.30   1st Qu.: 3.000   1st Qu.: 3.40   1st Qu.:2.700  \n",
       " Median :82.00   Median : 5.900   Median : 6.30   Median :4.700  \n",
       " Mean   :78.18   Mean   : 6.212   Mean   :10.31   Mean   :4.132  \n",
       " 3rd Qu.:87.70   3rd Qu.: 9.700   3rd Qu.:13.10   3rd Qu.:5.600  \n",
       " Max.   :90.40   Max.   :12.300   Max.   :42.00   Max.   :6.900  \n",
       "      ASH        \n",
       " Min.   :0.1000  \n",
       " 1st Qu.:0.5300  \n",
       " Median :0.8000  \n",
       " Mean   :0.8632  \n",
       " 3rd Qu.:1.1000  \n",
       " Max.   :2.3000  "
      ]
     },
     "metadata": {},
     "output_type": "display_data"
    },
    {
     "data": {
      "image/png": "[encoded data removed]",
      "text/plain": [
       "plot without title"
      ]
     },
     "metadata": {
      "image/png": {
       "height": 420,
       "width": 420
      },
      "text/plain": {
       "height": 420,
       "width": 420
      }
     },
     "output_type": "display_data"
    }
   ],
   "source": [
    "library(cluster)\n",
    "library(ggplot2)\n",
    "library(corrplot)\n",
    "\n",
    "#ruta datos\n",
    "#lee datos del archivo de texto como una matriz. La primera #columna se utiliza como vector de nombres de las filas\n",
    "datos <-read.table(\"milk1.dat\",row.names=1,dec=\".\",header=TRUE)\n",
    "print(datos)\n",
    "summary(datos)\n",
    "boxplot(datos)"
   ]
  },
  {
   "cell_type": "code",
   "execution_count": 3,
   "metadata": {},
   "outputs": [
    {
     "data": {
      "text/html": [
       "<table>\n",
       "<caption>A data.frame: 25 × 5</caption>\n",
       "<thead>\n",
       "\t<tr><th></th><th scope=col>WATER</th><th scope=col>PROTEIN</th><th scope=col>FAT</th><th scope=col>LACTOSE</th><th scope=col>ASH</th></tr>\n",
       "\t<tr><th></th><th scope=col>&lt;dbl&gt;</th><th scope=col>&lt;dbl&gt;</th><th scope=col>&lt;dbl&gt;</th><th scope=col>&lt;dbl&gt;</th><th scope=col>&lt;dbl&gt;</th></tr>\n",
       "</thead>\n",
       "<tbody>\n",
       "\t<tr><th scope=row>HORSE</th><td>90.1</td><td> 2.6</td><td> 1.0</td><td>6.9</td><td>0.35</td></tr>\n",
       "\t<tr><th scope=row>ORANGUTAN</th><td>88.5</td><td> 1.4</td><td> 3.5</td><td>6.0</td><td>0.24</td></tr>\n",
       "\t<tr><th scope=row>MONKEY</th><td>88.4</td><td> 2.2</td><td> 2.7</td><td>6.4</td><td>0.18</td></tr>\n",
       "\t<tr><th scope=row>DONKEY</th><td>90.3</td><td> 1.7</td><td> 1.4</td><td>6.2</td><td>0.40</td></tr>\n",
       "\t<tr><th scope=row>HIPPO</th><td>90.4</td><td> 0.6</td><td> 4.5</td><td>4.4</td><td>0.10</td></tr>\n",
       "\t<tr><th scope=row>CAMEL</th><td>87.7</td><td> 3.5</td><td> 3.4</td><td>4.8</td><td>0.71</td></tr>\n",
       "\t<tr><th scope=row>BISON</th><td>86.9</td><td> 4.8</td><td> 1.7</td><td>5.7</td><td>0.90</td></tr>\n",
       "\t<tr><th scope=row>BUFFALO</th><td>82.1</td><td> 5.9</td><td> 7.9</td><td>4.7</td><td>0.78</td></tr>\n",
       "\t<tr><th scope=row>GUINEA_PIG</th><td>81.9</td><td> 7.4</td><td> 7.2</td><td>2.7</td><td>0.85</td></tr>\n",
       "\t<tr><th scope=row>CAT</th><td>81.6</td><td>10.1</td><td> 6.3</td><td>4.4</td><td>0.75</td></tr>\n",
       "\t<tr><th scope=row>FOX</th><td>81.6</td><td> 6.6</td><td> 5.9</td><td>4.9</td><td>0.93</td></tr>\n",
       "\t<tr><th scope=row>LLAMA</th><td>86.5</td><td> 3.9</td><td> 3.2</td><td>5.6</td><td>0.80</td></tr>\n",
       "\t<tr><th scope=row>MULE</th><td>90.0</td><td> 2.0</td><td> 1.8</td><td>5.5</td><td>0.47</td></tr>\n",
       "\t<tr><th scope=row>PIG</th><td>82.8</td><td> 7.1</td><td> 5.1</td><td>3.7</td><td>1.10</td></tr>\n",
       "\t<tr><th scope=row>ZEBRA</th><td>86.2</td><td> 3.0</td><td> 4.8</td><td>5.3</td><td>0.70</td></tr>\n",
       "\t<tr><th scope=row>SHEEP</th><td>82.0</td><td> 5.6</td><td> 6.4</td><td>4.7</td><td>0.91</td></tr>\n",
       "\t<tr><th scope=row>DOG</th><td>76.3</td><td> 9.3</td><td> 9.5</td><td>3.0</td><td>1.20</td></tr>\n",
       "\t<tr><th scope=row>ELEPHANT</th><td>70.7</td><td> 3.6</td><td>17.6</td><td>5.6</td><td>0.63</td></tr>\n",
       "\t<tr><th scope=row>RABBIT</th><td>71.3</td><td>12.3</td><td>13.1</td><td>1.9</td><td>2.30</td></tr>\n",
       "\t<tr><th scope=row>RAT</th><td>72.5</td><td> 9.2</td><td>12.6</td><td>3.3</td><td>1.40</td></tr>\n",
       "\t<tr><th scope=row>DEER</th><td>65.9</td><td>10.4</td><td>19.7</td><td>2.6</td><td>1.40</td></tr>\n",
       "\t<tr><th scope=row>REINDEER</th><td>64.8</td><td>10.7</td><td>20.3</td><td>2.5</td><td>1.40</td></tr>\n",
       "\t<tr><th scope=row>WHALE</th><td>64.8</td><td>11.1</td><td>21.2</td><td>1.6</td><td>1.70</td></tr>\n",
       "\t<tr><th scope=row>SEAL</th><td>46.4</td><td> 9.7</td><td>42.0</td><td>0.0</td><td>0.85</td></tr>\n",
       "\t<tr><th scope=row>DOLPHIN</th><td>44.9</td><td>10.6</td><td>34.9</td><td>0.9</td><td>0.53</td></tr>\n",
       "</tbody>\n",
       "</table>\n"
      ],
      "text/latex": [
       "A data.frame: 25 × 5\n",
       "\\begin{tabular}{r|lllll}\n",
       "  & WATER & PROTEIN & FAT & LACTOSE & ASH\\\\\n",
       "  & <dbl> & <dbl> & <dbl> & <dbl> & <dbl>\\\\\n",
       "\\hline\n",
       "\tHORSE & 90.1 &  2.6 &  1.0 & 6.9 & 0.35\\\\\n",
       "\tORANGUTAN & 88.5 &  1.4 &  3.5 & 6.0 & 0.24\\\\\n",
       "\tMONKEY & 88.4 &  2.2 &  2.7 & 6.4 & 0.18\\\\\n",
       "\tDONKEY & 90.3 &  1.7 &  1.4 & 6.2 & 0.40\\\\\n",
       "\tHIPPO & 90.4 &  0.6 &  4.5 & 4.4 & 0.10\\\\\n",
       "\tCAMEL & 87.7 &  3.5 &  3.4 & 4.8 & 0.71\\\\\n",
       "\tBISON & 86.9 &  4.8 &  1.7 & 5.7 & 0.90\\\\\n",
       "\tBUFFALO & 82.1 &  5.9 &  7.9 & 4.7 & 0.78\\\\\n",
       "\tGUINEA\\_PIG & 81.9 &  7.4 &  7.2 & 2.7 & 0.85\\\\\n",
       "\tCAT & 81.6 & 10.1 &  6.3 & 4.4 & 0.75\\\\\n",
       "\tFOX & 81.6 &  6.6 &  5.9 & 4.9 & 0.93\\\\\n",
       "\tLLAMA & 86.5 &  3.9 &  3.2 & 5.6 & 0.80\\\\\n",
       "\tMULE & 90.0 &  2.0 &  1.8 & 5.5 & 0.47\\\\\n",
       "\tPIG & 82.8 &  7.1 &  5.1 & 3.7 & 1.10\\\\\n",
       "\tZEBRA & 86.2 &  3.0 &  4.8 & 5.3 & 0.70\\\\\n",
       "\tSHEEP & 82.0 &  5.6 &  6.4 & 4.7 & 0.91\\\\\n",
       "\tDOG & 76.3 &  9.3 &  9.5 & 3.0 & 1.20\\\\\n",
       "\tELEPHANT & 70.7 &  3.6 & 17.6 & 5.6 & 0.63\\\\\n",
       "\tRABBIT & 71.3 & 12.3 & 13.1 & 1.9 & 2.30\\\\\n",
       "\tRAT & 72.5 &  9.2 & 12.6 & 3.3 & 1.40\\\\\n",
       "\tDEER & 65.9 & 10.4 & 19.7 & 2.6 & 1.40\\\\\n",
       "\tREINDEER & 64.8 & 10.7 & 20.3 & 2.5 & 1.40\\\\\n",
       "\tWHALE & 64.8 & 11.1 & 21.2 & 1.6 & 1.70\\\\\n",
       "\tSEAL & 46.4 &  9.7 & 42.0 & 0.0 & 0.85\\\\\n",
       "\tDOLPHIN & 44.9 & 10.6 & 34.9 & 0.9 & 0.53\\\\\n",
       "\\end{tabular}\n"
      ],
      "text/markdown": [
       "\n",
       "A data.frame: 25 × 5\n",
       "\n",
       "| <!--/--> | WATER &lt;dbl&gt; | PROTEIN &lt;dbl&gt; | FAT &lt;dbl&gt; | LACTOSE &lt;dbl&gt; | ASH &lt;dbl&gt; |\n",
       "|---|---|---|---|---|---|\n",
       "| HORSE | 90.1 |  2.6 |  1.0 | 6.9 | 0.35 |\n",
       "| ORANGUTAN | 88.5 |  1.4 |  3.5 | 6.0 | 0.24 |\n",
       "| MONKEY | 88.4 |  2.2 |  2.7 | 6.4 | 0.18 |\n",
       "| DONKEY | 90.3 |  1.7 |  1.4 | 6.2 | 0.40 |\n",
       "| HIPPO | 90.4 |  0.6 |  4.5 | 4.4 | 0.10 |\n",
       "| CAMEL | 87.7 |  3.5 |  3.4 | 4.8 | 0.71 |\n",
       "| BISON | 86.9 |  4.8 |  1.7 | 5.7 | 0.90 |\n",
       "| BUFFALO | 82.1 |  5.9 |  7.9 | 4.7 | 0.78 |\n",
       "| GUINEA_PIG | 81.9 |  7.4 |  7.2 | 2.7 | 0.85 |\n",
       "| CAT | 81.6 | 10.1 |  6.3 | 4.4 | 0.75 |\n",
       "| FOX | 81.6 |  6.6 |  5.9 | 4.9 | 0.93 |\n",
       "| LLAMA | 86.5 |  3.9 |  3.2 | 5.6 | 0.80 |\n",
       "| MULE | 90.0 |  2.0 |  1.8 | 5.5 | 0.47 |\n",
       "| PIG | 82.8 |  7.1 |  5.1 | 3.7 | 1.10 |\n",
       "| ZEBRA | 86.2 |  3.0 |  4.8 | 5.3 | 0.70 |\n",
       "| SHEEP | 82.0 |  5.6 |  6.4 | 4.7 | 0.91 |\n",
       "| DOG | 76.3 |  9.3 |  9.5 | 3.0 | 1.20 |\n",
       "| ELEPHANT | 70.7 |  3.6 | 17.6 | 5.6 | 0.63 |\n",
       "| RABBIT | 71.3 | 12.3 | 13.1 | 1.9 | 2.30 |\n",
       "| RAT | 72.5 |  9.2 | 12.6 | 3.3 | 1.40 |\n",
       "| DEER | 65.9 | 10.4 | 19.7 | 2.6 | 1.40 |\n",
       "| REINDEER | 64.8 | 10.7 | 20.3 | 2.5 | 1.40 |\n",
       "| WHALE | 64.8 | 11.1 | 21.2 | 1.6 | 1.70 |\n",
       "| SEAL | 46.4 |  9.7 | 42.0 | 0.0 | 0.85 |\n",
       "| DOLPHIN | 44.9 | 10.6 | 34.9 | 0.9 | 0.53 |\n",
       "\n"
      ],
      "text/plain": [
       "           WATER PROTEIN FAT  LACTOSE ASH \n",
       "HORSE      90.1   2.6     1.0 6.9     0.35\n",
       "ORANGUTAN  88.5   1.4     3.5 6.0     0.24\n",
       "MONKEY     88.4   2.2     2.7 6.4     0.18\n",
       "DONKEY     90.3   1.7     1.4 6.2     0.40\n",
       "HIPPO      90.4   0.6     4.5 4.4     0.10\n",
       "CAMEL      87.7   3.5     3.4 4.8     0.71\n",
       "BISON      86.9   4.8     1.7 5.7     0.90\n",
       "BUFFALO    82.1   5.9     7.9 4.7     0.78\n",
       "GUINEA_PIG 81.9   7.4     7.2 2.7     0.85\n",
       "CAT        81.6  10.1     6.3 4.4     0.75\n",
       "FOX        81.6   6.6     5.9 4.9     0.93\n",
       "LLAMA      86.5   3.9     3.2 5.6     0.80\n",
       "MULE       90.0   2.0     1.8 5.5     0.47\n",
       "PIG        82.8   7.1     5.1 3.7     1.10\n",
       "ZEBRA      86.2   3.0     4.8 5.3     0.70\n",
       "SHEEP      82.0   5.6     6.4 4.7     0.91\n",
       "DOG        76.3   9.3     9.5 3.0     1.20\n",
       "ELEPHANT   70.7   3.6    17.6 5.6     0.63\n",
       "RABBIT     71.3  12.3    13.1 1.9     2.30\n",
       "RAT        72.5   9.2    12.6 3.3     1.40\n",
       "DEER       65.9  10.4    19.7 2.6     1.40\n",
       "REINDEER   64.8  10.7    20.3 2.5     1.40\n",
       "WHALE      64.8  11.1    21.2 1.6     1.70\n",
       "SEAL       46.4   9.7    42.0 0.0     0.85\n",
       "DOLPHIN    44.9  10.6    34.9 0.9     0.53"
      ]
     },
     "metadata": {},
     "output_type": "display_data"
    }
   ],
   "source": [
    "datos"
   ]
  },
  {
   "cell_type": "markdown",
   "metadata": {},
   "source": [
    "**Descripción de los datos y porque realizar un análisis de agrupamiento**\n",
    "\n",
    "Se trata de un conjunto de datos que describen la composición de la leche de 25 mamíferos. Se consideran 5 características en porcentajes: agua, proteína, grasa, lactosa y calcio. Se puede observar del boxplot que, en promedio, el mayor porcentaje de todas las leches es agua (cerca de 80%), seguido de proteína, grasa y lactosa (cerca del 5%) y bastante menor porcentaje de calcio (0,8%). Las componente que tienen mayor variación son el porcentaje de agua y de grasa. Parece pertinente realizar un análisis de agrupamiento para distinguir grupos de mamíferos que poseen leches de características similares."
   ]
  },
  {
   "cell_type": "code",
   "execution_count": 4,
   "metadata": {
    "scrolled": false
   },
   "outputs": [
    {
     "data": {
      "image/png": "[encoded data removed]",
      "text/plain": [
       "plot without title"
      ]
     },
     "metadata": {
      "image/png": {
       "height": 420,
       "width": 420
      },
      "text/plain": {
       "height": 420,
       "width": 420
      }
     },
     "output_type": "display_data"
    }
   ],
   "source": [
    "#ingresar valor de k0 \n",
    "k0=3\n",
    "cl<-kmeans(datos,k0,iter.max=1000,nstart=10)\n",
    "#grafica los datos coloreados con el grupo asignado en planos de pares de variables\n",
    "pairs(datos,col=cl$cluster)"
   ]
  },
  {
   "cell_type": "markdown",
   "metadata": {},
   "source": [
    "Al considerar 3 grupos con el algoritmo KMeans, se obtienen grupos claramente diferenciados por las variables porcentaje de agua y grasa. El grupo negro (focas y delfines), con los menores porcentajes de agua y mayores porcentajes de grasa. El grupo rojo, con 6 mamíferos, cuyas leches tienen porcentajes intermedios de agua (60 a 75%) y grasa (12 a 22%). Y luego el grupo verde, el mas común, con 17 mamíferos, cuyas leches tienen mas de 75% de agua y menos de 10% de grasa. Las otras variables no permiten discriminar completamente los 3 grupos definidos."
   ]
  },
  {
   "cell_type": "code",
   "execution_count": 5,
   "metadata": {
    "scrolled": false
   },
   "outputs": [
    {
     "name": "stdout",
     "output_type": "stream",
     "text": [
      "Call:\n",
      "princomp(x = datos, cor = TRUE)\n",
      "\n",
      "Standard deviations:\n",
      "    Comp.1     Comp.2     Comp.3     Comp.4     Comp.5 \n",
      "1.96946572 0.94201777 0.35905327 0.31397620 0.07941651 \n",
      "\n",
      " 5  variables and  25 observations.\n"
     ]
    },
    {
     "data": {
      "text/html": [
       "<table>\n",
       "<caption>A matrix: 3 × 5 of type dbl</caption>\n",
       "<thead>\n",
       "\t<tr><th></th><th scope=col>Comp.1</th><th scope=col>Comp.2</th><th scope=col>Comp.3</th><th scope=col>Comp.4</th><th scope=col>Comp.5</th></tr>\n",
       "</thead>\n",
       "<tbody>\n",
       "\t<tr><th scope=row>1</th><td>-3.831081</td><td>-2.2408320</td><td> 0.09790001</td><td>-0.02910750</td><td>-0.029457957</td></tr>\n",
       "\t<tr><th scope=row>2</th><td>-1.748439</td><td> 0.5834780</td><td>-0.20968076</td><td> 0.06088255</td><td>-0.002705362</td></tr>\n",
       "\t<tr><th scope=row>3</th><td> 1.243827</td><td> 0.0248324</td><td> 0.07949783</td><td>-0.02299768</td><td> 0.004865841</td></tr>\n",
       "</tbody>\n",
       "</table>\n"
      ],
      "text/latex": [
       "A matrix: 3 × 5 of type dbl\n",
       "\\begin{tabular}{r|lllll}\n",
       "  & Comp.1 & Comp.2 & Comp.3 & Comp.4 & Comp.5\\\\\n",
       "\\hline\n",
       "\t1 & -3.831081 & -2.2408320 &  0.09790001 & -0.02910750 & -0.029457957\\\\\n",
       "\t2 & -1.748439 &  0.5834780 & -0.20968076 &  0.06088255 & -0.002705362\\\\\n",
       "\t3 &  1.243827 &  0.0248324 &  0.07949783 & -0.02299768 &  0.004865841\\\\\n",
       "\\end{tabular}\n"
      ],
      "text/markdown": [
       "\n",
       "A matrix: 3 × 5 of type dbl\n",
       "\n",
       "| <!--/--> | Comp.1 | Comp.2 | Comp.3 | Comp.4 | Comp.5 |\n",
       "|---|---|---|---|---|---|\n",
       "| 1 | -3.831081 | -2.2408320 |  0.09790001 | -0.02910750 | -0.029457957 |\n",
       "| 2 | -1.748439 |  0.5834780 | -0.20968076 |  0.06088255 | -0.002705362 |\n",
       "| 3 |  1.243827 |  0.0248324 |  0.07949783 | -0.02299768 |  0.004865841 |\n",
       "\n"
      ],
      "text/plain": [
       "  Comp.1    Comp.2     Comp.3      Comp.4      Comp.5      \n",
       "1 -3.831081 -2.2408320  0.09790001 -0.02910750 -0.029457957\n",
       "2 -1.748439  0.5834780 -0.20968076  0.06088255 -0.002705362\n",
       "3  1.243827  0.0248324  0.07949783 -0.02299768  0.004865841"
      ]
     },
     "metadata": {},
     "output_type": "display_data"
    },
    {
     "data": {
      "text/plain": [
       "K-means clustering with 3 clusters of sizes 2, 7, 16\n",
       "\n",
       "Cluster means:\n",
       "     WATER   PROTEIN      FAT  LACTOSE      ASH\n",
       "1 45.65000 10.150000 38.45000 0.450000 0.690000\n",
       "2 69.47143  9.514286 16.28571 2.928571 1.432857\n",
       "3 86.06250  4.275000  4.17500 5.118750 0.635625\n",
       "\n",
       "Clustering vector:\n",
       "     HORSE  ORANGUTAN     MONKEY     DONKEY      HIPPO      CAMEL      BISON \n",
       "         3          3          3          3          3          3          3 \n",
       "   BUFFALO GUINEA_PIG        CAT        FOX      LLAMA       MULE        PIG \n",
       "         3          3          3          3          3          3          3 \n",
       "     ZEBRA      SHEEP        DOG   ELEPHANT     RABBIT        RAT       DEER \n",
       "         3          3          2          2          2          2          2 \n",
       "  REINDEER      WHALE       SEAL    DOLPHIN \n",
       "         2          2          1          1 \n",
       "\n",
       "Within cluster sum of squares by cluster:\n",
       "[1]  27.1912 299.9911 377.2215\n",
       " (between_SS / total_SS =  89.9 %)\n",
       "\n",
       "Available components:\n",
       "\n",
       "[1] \"cluster\"      \"centers\"      \"totss\"        \"withinss\"     \"tot.withinss\"\n",
       "[6] \"betweenss\"    \"size\"         \"iter\"         \"ifault\"      "
      ]
     },
     "metadata": {},
     "output_type": "display_data"
    },
    {
     "data": {
      "image/png": "[encoded data removed]",
      "text/plain": [
       "Plot with title \"res\""
      ]
     },
     "metadata": {
      "image/png": {
       "height": 420,
       "width": 420
      },
      "text/plain": {
       "height": 420,
       "width": 420
      }
     },
     "output_type": "display_data"
    },
    {
     "data": {
      "image/png": "[encoded data removed]",
      "text/plain": [
       "plot without title"
      ]
     },
     "metadata": {
      "image/png": {
       "height": 420,
       "width": 420
      },
      "text/plain": {
       "height": 420,
       "width": 420
      }
     },
     "output_type": "display_data"
    }
   ],
   "source": [
    "#Análisis de Componentes Principales para graficar los grupos obtenidos\n",
    "#Calcula plano de componentes principales y grafica las observaciones con el número de su grupo\n",
    "res <- princomp(datos, cor=TRUE)\n",
    "print(res)\n",
    "plot(res)\n",
    "res2 <- predict(res,cl$centers)\n",
    "res2\n",
    "cl\n",
    "biplot(res,xlabs=cl$cluster)\n",
    "#grafica los centros de cada grupo en el plano de componentes principales utilizando colores distintos\n",
    "points(res2[,1:2],col=1:k0,pch=19)\n"
   ]
  },
  {
   "cell_type": "markdown",
   "metadata": {},
   "source": [
    "La representación de los grupos en el primer plano principal nos permite distinguir que el grupo 3 representa a los individuos con mayores valores de FAT, mientras corresponde a los mamíferos con mayores porcentajes de agua y lactosa y por otra parte el grupo 2 contiene mamíferos con mayores porcentajes de proteína y calcio (a excepción de un caso)."
   ]
  },
  {
   "cell_type": "code",
   "execution_count": 6,
   "metadata": {},
   "outputs": [
    {
     "data": {
      "image/png": "[encoded data removed]",
      "text/plain": [
       "Plot with title \"J v/s k en k-means\""
      ]
     },
     "metadata": {
      "image/png": {
       "height": 420,
       "width": 420
      },
      "text/plain": {
       "height": 420,
       "width": 420
      }
     },
     "output_type": "display_data"
    }
   ],
   "source": [
    "#Estrategia para elegir K, el numero de grupos\n",
    "#J suma cuadrado de las distancias por cada k utilizado\n",
    "#K-means\n",
    "J<-rep(0,20)\n",
    "fin_iter<-20\n",
    "\n",
    "\n",
    "for (k in 1:fin_iter){\n",
    "     cl<-kmeans(datos,k,iter.max=1000,nstart=10)\n",
    "\t J[k]<-cl$tot.withinss\n",
    "}\n",
    "\n",
    "\n",
    "plot(1:fin_iter,J,xlab=\"k\",ylab=\"J\",type=\"p\",main=\"J v/s k en k-means\",col=2) "
   ]
  },
  {
   "cell_type": "markdown",
   "metadata": {},
   "source": [
    "---"
   ]
  },
  {
   "cell_type": "markdown",
   "metadata": {},
   "source": [
    "### Ejercicio 1:\n",
    "1. De acuerdo al gráfico obtenido, cuál es el valor de K mas apropiado? Agregue código para automatizar este criterio.  \n",
    "2. Caracterice los grupos obtenidos con el K óptimo. Interprete sus resultados.\n",
    "    "
   ]
  },
  {
   "cell_type": "markdown",
   "metadata": {},
   "source": [
    "1) De acuerdo al gráfico obtenido, el K más apropiado se encuentra entre 3 y 4."
   ]
  },
  {
   "cell_type": "code",
   "execution_count": 7,
   "metadata": {},
   "outputs": [
    {
     "data": {
      "text/html": [
       "4"
      ],
      "text/latex": [
       "4"
      ],
      "text/markdown": [
       "4"
      ],
      "text/plain": [
       "[1] 4"
      ]
     },
     "metadata": {},
     "output_type": "display_data"
    }
   ],
   "source": [
    "#c: criterio de porcentaje de mejora en función de perdida respecto al k anterior\n",
    "kideal<-function(wss, c){\n",
    "    ki<-2  #partiendo de la base que k debería ser al menos dos para el funcionamiento de kmeans \n",
    "    i<-3\n",
    "    n <- 1-(wss[i]/wss[i-1])\n",
    "    while (n>=c && i<length(wss)){\n",
    "        ki<-i\n",
    "        i<-i+1\n",
    "        n <- 1-(wss[i]/wss[i-1])\n",
    "    }\n",
    "    ki\n",
    "}\n",
    "ki<-kideal(J, 0.5)\n",
    "ki"
   ]
  },
  {
   "cell_type": "code",
   "execution_count": 8,
   "metadata": {},
   "outputs": [
    {
     "data": {
      "image/png": "[encoded data removed]",
      "text/plain": [
       "plot without title"
      ]
     },
     "metadata": {
      "image/png": {
       "height": 420,
       "width": 420
      },
      "text/plain": {
       "height": 420,
       "width": 420
      }
     },
     "output_type": "display_data"
    }
   ],
   "source": [
    "cl_i<-kmeans(datos,ki,iter.max=1000,nstart=10)\n",
    "pairs(datos,col=cl_i$cluster)\n"
   ]
  },
  {
   "cell_type": "markdown",
   "metadata": {},
   "source": [
    "Con K = 4 como nº ideal de clusters, notamos que los 4 grupos están bien diferenciados entre las variables porcentaje de agua y grasa, y porcentaje de agua y lactosa, donde la primera relación es inversa mientras que la segunda es directa."
   ]
  },
  {
   "cell_type": "code",
   "execution_count": 9,
   "metadata": {
    "scrolled": false
   },
   "outputs": [
    {
     "name": "stdout",
     "output_type": "stream",
     "text": [
      "Call:\n",
      "princomp(x = datos, cor = TRUE)\n",
      "\n",
      "Standard deviations:\n",
      "    Comp.1     Comp.2     Comp.3     Comp.4     Comp.5 \n",
      "1.96946572 0.94201777 0.35905327 0.31397620 0.07941651 \n",
      "\n",
      " 5  variables and  25 observations.\n"
     ]
    },
    {
     "data": {
      "text/html": [
       "<table>\n",
       "<caption>A matrix: 4 × 5 of type dbl</caption>\n",
       "<thead>\n",
       "\t<tr><th></th><th scope=col>Comp.1</th><th scope=col>Comp.2</th><th scope=col>Comp.3</th><th scope=col>Comp.4</th><th scope=col>Comp.5</th></tr>\n",
       "</thead>\n",
       "<tbody>\n",
       "\t<tr><th scope=row>1</th><td>-3.83108138</td><td>-2.2408320</td><td> 0.097900012</td><td>-0.02910750</td><td>-0.029457957</td></tr>\n",
       "\t<tr><th scope=row>2</th><td>-1.87604083</td><td> 0.5598512</td><td>-0.299886203</td><td> 0.09929465</td><td> 0.007419768</td></tr>\n",
       "\t<tr><th scope=row>3</th><td> 1.87606405</td><td>-0.2017241</td><td>-0.007713097</td><td> 0.09635908</td><td>-0.003291286</td></tr>\n",
       "\t<tr><th scope=row>4</th><td> 0.02253818</td><td> 0.4485425</td><td> 0.240092595</td><td>-0.21444910</td><td> 0.006758595</td></tr>\n",
       "</tbody>\n",
       "</table>\n"
      ],
      "text/latex": [
       "A matrix: 4 × 5 of type dbl\n",
       "\\begin{tabular}{r|lllll}\n",
       "  & Comp.1 & Comp.2 & Comp.3 & Comp.4 & Comp.5\\\\\n",
       "\\hline\n",
       "\t1 & -3.83108138 & -2.2408320 &  0.097900012 & -0.02910750 & -0.029457957\\\\\n",
       "\t2 & -1.87604083 &  0.5598512 & -0.299886203 &  0.09929465 &  0.007419768\\\\\n",
       "\t3 &  1.87606405 & -0.2017241 & -0.007713097 &  0.09635908 & -0.003291286\\\\\n",
       "\t4 &  0.02253818 &  0.4485425 &  0.240092595 & -0.21444910 &  0.006758595\\\\\n",
       "\\end{tabular}\n"
      ],
      "text/markdown": [
       "\n",
       "A matrix: 4 × 5 of type dbl\n",
       "\n",
       "| <!--/--> | Comp.1 | Comp.2 | Comp.3 | Comp.4 | Comp.5 |\n",
       "|---|---|---|---|---|---|\n",
       "| 1 | -3.83108138 | -2.2408320 |  0.097900012 | -0.02910750 | -0.029457957 |\n",
       "| 2 | -1.87604083 |  0.5598512 | -0.299886203 |  0.09929465 |  0.007419768 |\n",
       "| 3 |  1.87606405 | -0.2017241 | -0.007713097 |  0.09635908 | -0.003291286 |\n",
       "| 4 |  0.02253818 |  0.4485425 |  0.240092595 | -0.21444910 |  0.006758595 |\n",
       "\n"
      ],
      "text/plain": [
       "  Comp.1      Comp.2     Comp.3       Comp.4      Comp.5      \n",
       "1 -3.83108138 -2.2408320  0.097900012 -0.02910750 -0.029457957\n",
       "2 -1.87604083  0.5598512 -0.299886203  0.09929465  0.007419768\n",
       "3  1.87606405 -0.2017241 -0.007713097  0.09635908 -0.003291286\n",
       "4  0.02253818  0.4485425  0.240092595 -0.21444910  0.006758595"
      ]
     },
     "metadata": {},
     "output_type": "display_data"
    },
    {
     "data": {
      "text/plain": [
       "K-means clustering with 4 clusters of sizes 2, 6, 10, 7\n",
       "\n",
       "Cluster means:\n",
       "     WATER   PROTEIN      FAT  LACTOSE       ASH\n",
       "1 45.65000 10.150000 38.45000 0.450000 0.6900000\n",
       "2 68.33333  9.550000 17.41667 2.916667 1.4716667\n",
       "3 88.50000  2.570000  2.80000 5.680000 0.4850000\n",
       "4 81.18571  7.428571  6.90000 4.014286 0.9314286\n",
       "\n",
       "Clustering vector:\n",
       "     HORSE  ORANGUTAN     MONKEY     DONKEY      HIPPO      CAMEL      BISON \n",
       "         3          3          3          3          3          3          3 \n",
       "   BUFFALO GUINEA_PIG        CAT        FOX      LLAMA       MULE        PIG \n",
       "         4          4          4          4          3          3          4 \n",
       "     ZEBRA      SHEEP        DOG   ELEPHANT     RABBIT        RAT       DEER \n",
       "         3          4          4          2          2          2          2 \n",
       "  REINDEER      WHALE       SEAL    DOLPHIN \n",
       "         2          2          1          1 \n",
       "\n",
       "Within cluster sum of squares by cluster:\n",
       "[1]  27.19120 191.74708  59.41225  63.53491\n",
       " (between_SS / total_SS =  95.1 %)\n",
       "\n",
       "Available components:\n",
       "\n",
       "[1] \"cluster\"      \"centers\"      \"totss\"        \"withinss\"     \"tot.withinss\"\n",
       "[6] \"betweenss\"    \"size\"         \"iter\"         \"ifault\"      "
      ]
     },
     "metadata": {},
     "output_type": "display_data"
    },
    {
     "data": {
      "image/png": "[encoded data removed]",
      "text/plain": [
       "Plot with title \"res\""
      ]
     },
     "metadata": {
      "image/png": {
       "height": 420,
       "width": 420
      },
      "text/plain": {
       "height": 420,
       "width": 420
      }
     },
     "output_type": "display_data"
    },
    {
     "data": {
      "image/png": "[encoded data removed]",
      "text/plain": [
       "plot without title"
      ]
     },
     "metadata": {
      "image/png": {
       "height": 420,
       "width": 420
      },
      "text/plain": {
       "height": 420,
       "width": 420
      }
     },
     "output_type": "display_data"
    }
   ],
   "source": [
    "#Análisis de Componentes Principales para graficar los grupos obtenidos\n",
    "#Calcula plano de componentes principales y grafica las observaciones con el número de su grupo\n",
    "res <- princomp(datos, cor=TRUE)\n",
    "print(res)\n",
    "plot(res)\n",
    "res2 <- predict(res,cl_i$centers)\n",
    "res2\n",
    "cl_i\n",
    "biplot(res,xlabs=cl_i$cluster)\n",
    "#grafica los centros de cada grupo en el plano de componentes principales utilizando colores distintos\n",
    "points(res2[,1:2],col=1:ki,pch=19)"
   ]
  },
  {
   "cell_type": "markdown",
   "metadata": {},
   "source": [
    "### Caracterización de datos "
   ]
  },
  {
   "cell_type": "code",
   "execution_count": 10,
   "metadata": {},
   "outputs": [
    {
     "data": {
      "text/html": [
       "<table>\n",
       "<caption>A data.frame: 25 × 6</caption>\n",
       "<thead>\n",
       "\t<tr><th></th><th scope=col>WATER</th><th scope=col>PROTEIN</th><th scope=col>FAT</th><th scope=col>LACTOSE</th><th scope=col>ASH</th><th scope=col>cl_num</th></tr>\n",
       "\t<tr><th></th><th scope=col>&lt;dbl&gt;</th><th scope=col>&lt;dbl&gt;</th><th scope=col>&lt;dbl&gt;</th><th scope=col>&lt;dbl&gt;</th><th scope=col>&lt;dbl&gt;</th><th scope=col>&lt;int&gt;</th></tr>\n",
       "</thead>\n",
       "<tbody>\n",
       "\t<tr><th scope=row>HORSE</th><td>90.1</td><td> 2.6</td><td> 1.0</td><td>6.9</td><td>0.35</td><td>3</td></tr>\n",
       "\t<tr><th scope=row>ORANGUTAN</th><td>88.5</td><td> 1.4</td><td> 3.5</td><td>6.0</td><td>0.24</td><td>3</td></tr>\n",
       "\t<tr><th scope=row>MONKEY</th><td>88.4</td><td> 2.2</td><td> 2.7</td><td>6.4</td><td>0.18</td><td>3</td></tr>\n",
       "\t<tr><th scope=row>DONKEY</th><td>90.3</td><td> 1.7</td><td> 1.4</td><td>6.2</td><td>0.40</td><td>3</td></tr>\n",
       "\t<tr><th scope=row>HIPPO</th><td>90.4</td><td> 0.6</td><td> 4.5</td><td>4.4</td><td>0.10</td><td>3</td></tr>\n",
       "\t<tr><th scope=row>CAMEL</th><td>87.7</td><td> 3.5</td><td> 3.4</td><td>4.8</td><td>0.71</td><td>3</td></tr>\n",
       "\t<tr><th scope=row>BISON</th><td>86.9</td><td> 4.8</td><td> 1.7</td><td>5.7</td><td>0.90</td><td>3</td></tr>\n",
       "\t<tr><th scope=row>BUFFALO</th><td>82.1</td><td> 5.9</td><td> 7.9</td><td>4.7</td><td>0.78</td><td>4</td></tr>\n",
       "\t<tr><th scope=row>GUINEA_PIG</th><td>81.9</td><td> 7.4</td><td> 7.2</td><td>2.7</td><td>0.85</td><td>4</td></tr>\n",
       "\t<tr><th scope=row>CAT</th><td>81.6</td><td>10.1</td><td> 6.3</td><td>4.4</td><td>0.75</td><td>4</td></tr>\n",
       "\t<tr><th scope=row>FOX</th><td>81.6</td><td> 6.6</td><td> 5.9</td><td>4.9</td><td>0.93</td><td>4</td></tr>\n",
       "\t<tr><th scope=row>LLAMA</th><td>86.5</td><td> 3.9</td><td> 3.2</td><td>5.6</td><td>0.80</td><td>3</td></tr>\n",
       "\t<tr><th scope=row>MULE</th><td>90.0</td><td> 2.0</td><td> 1.8</td><td>5.5</td><td>0.47</td><td>3</td></tr>\n",
       "\t<tr><th scope=row>PIG</th><td>82.8</td><td> 7.1</td><td> 5.1</td><td>3.7</td><td>1.10</td><td>4</td></tr>\n",
       "\t<tr><th scope=row>ZEBRA</th><td>86.2</td><td> 3.0</td><td> 4.8</td><td>5.3</td><td>0.70</td><td>3</td></tr>\n",
       "\t<tr><th scope=row>SHEEP</th><td>82.0</td><td> 5.6</td><td> 6.4</td><td>4.7</td><td>0.91</td><td>4</td></tr>\n",
       "\t<tr><th scope=row>DOG</th><td>76.3</td><td> 9.3</td><td> 9.5</td><td>3.0</td><td>1.20</td><td>4</td></tr>\n",
       "\t<tr><th scope=row>ELEPHANT</th><td>70.7</td><td> 3.6</td><td>17.6</td><td>5.6</td><td>0.63</td><td>2</td></tr>\n",
       "\t<tr><th scope=row>RABBIT</th><td>71.3</td><td>12.3</td><td>13.1</td><td>1.9</td><td>2.30</td><td>2</td></tr>\n",
       "\t<tr><th scope=row>RAT</th><td>72.5</td><td> 9.2</td><td>12.6</td><td>3.3</td><td>1.40</td><td>2</td></tr>\n",
       "\t<tr><th scope=row>DEER</th><td>65.9</td><td>10.4</td><td>19.7</td><td>2.6</td><td>1.40</td><td>2</td></tr>\n",
       "\t<tr><th scope=row>REINDEER</th><td>64.8</td><td>10.7</td><td>20.3</td><td>2.5</td><td>1.40</td><td>2</td></tr>\n",
       "\t<tr><th scope=row>WHALE</th><td>64.8</td><td>11.1</td><td>21.2</td><td>1.6</td><td>1.70</td><td>2</td></tr>\n",
       "\t<tr><th scope=row>SEAL</th><td>46.4</td><td> 9.7</td><td>42.0</td><td>0.0</td><td>0.85</td><td>1</td></tr>\n",
       "\t<tr><th scope=row>DOLPHIN</th><td>44.9</td><td>10.6</td><td>34.9</td><td>0.9</td><td>0.53</td><td>1</td></tr>\n",
       "</tbody>\n",
       "</table>\n"
      ],
      "text/latex": [
       "A data.frame: 25 × 6\n",
       "\\begin{tabular}{r|llllll}\n",
       "  & WATER & PROTEIN & FAT & LACTOSE & ASH & cl\\_num\\\\\n",
       "  & <dbl> & <dbl> & <dbl> & <dbl> & <dbl> & <int>\\\\\n",
       "\\hline\n",
       "\tHORSE & 90.1 &  2.6 &  1.0 & 6.9 & 0.35 & 3\\\\\n",
       "\tORANGUTAN & 88.5 &  1.4 &  3.5 & 6.0 & 0.24 & 3\\\\\n",
       "\tMONKEY & 88.4 &  2.2 &  2.7 & 6.4 & 0.18 & 3\\\\\n",
       "\tDONKEY & 90.3 &  1.7 &  1.4 & 6.2 & 0.40 & 3\\\\\n",
       "\tHIPPO & 90.4 &  0.6 &  4.5 & 4.4 & 0.10 & 3\\\\\n",
       "\tCAMEL & 87.7 &  3.5 &  3.4 & 4.8 & 0.71 & 3\\\\\n",
       "\tBISON & 86.9 &  4.8 &  1.7 & 5.7 & 0.90 & 3\\\\\n",
       "\tBUFFALO & 82.1 &  5.9 &  7.9 & 4.7 & 0.78 & 4\\\\\n",
       "\tGUINEA\\_PIG & 81.9 &  7.4 &  7.2 & 2.7 & 0.85 & 4\\\\\n",
       "\tCAT & 81.6 & 10.1 &  6.3 & 4.4 & 0.75 & 4\\\\\n",
       "\tFOX & 81.6 &  6.6 &  5.9 & 4.9 & 0.93 & 4\\\\\n",
       "\tLLAMA & 86.5 &  3.9 &  3.2 & 5.6 & 0.80 & 3\\\\\n",
       "\tMULE & 90.0 &  2.0 &  1.8 & 5.5 & 0.47 & 3\\\\\n",
       "\tPIG & 82.8 &  7.1 &  5.1 & 3.7 & 1.10 & 4\\\\\n",
       "\tZEBRA & 86.2 &  3.0 &  4.8 & 5.3 & 0.70 & 3\\\\\n",
       "\tSHEEP & 82.0 &  5.6 &  6.4 & 4.7 & 0.91 & 4\\\\\n",
       "\tDOG & 76.3 &  9.3 &  9.5 & 3.0 & 1.20 & 4\\\\\n",
       "\tELEPHANT & 70.7 &  3.6 & 17.6 & 5.6 & 0.63 & 2\\\\\n",
       "\tRABBIT & 71.3 & 12.3 & 13.1 & 1.9 & 2.30 & 2\\\\\n",
       "\tRAT & 72.5 &  9.2 & 12.6 & 3.3 & 1.40 & 2\\\\\n",
       "\tDEER & 65.9 & 10.4 & 19.7 & 2.6 & 1.40 & 2\\\\\n",
       "\tREINDEER & 64.8 & 10.7 & 20.3 & 2.5 & 1.40 & 2\\\\\n",
       "\tWHALE & 64.8 & 11.1 & 21.2 & 1.6 & 1.70 & 2\\\\\n",
       "\tSEAL & 46.4 &  9.7 & 42.0 & 0.0 & 0.85 & 1\\\\\n",
       "\tDOLPHIN & 44.9 & 10.6 & 34.9 & 0.9 & 0.53 & 1\\\\\n",
       "\\end{tabular}\n"
      ],
      "text/markdown": [
       "\n",
       "A data.frame: 25 × 6\n",
       "\n",
       "| <!--/--> | WATER &lt;dbl&gt; | PROTEIN &lt;dbl&gt; | FAT &lt;dbl&gt; | LACTOSE &lt;dbl&gt; | ASH &lt;dbl&gt; | cl_num &lt;int&gt; |\n",
       "|---|---|---|---|---|---|---|\n",
       "| HORSE | 90.1 |  2.6 |  1.0 | 6.9 | 0.35 | 3 |\n",
       "| ORANGUTAN | 88.5 |  1.4 |  3.5 | 6.0 | 0.24 | 3 |\n",
       "| MONKEY | 88.4 |  2.2 |  2.7 | 6.4 | 0.18 | 3 |\n",
       "| DONKEY | 90.3 |  1.7 |  1.4 | 6.2 | 0.40 | 3 |\n",
       "| HIPPO | 90.4 |  0.6 |  4.5 | 4.4 | 0.10 | 3 |\n",
       "| CAMEL | 87.7 |  3.5 |  3.4 | 4.8 | 0.71 | 3 |\n",
       "| BISON | 86.9 |  4.8 |  1.7 | 5.7 | 0.90 | 3 |\n",
       "| BUFFALO | 82.1 |  5.9 |  7.9 | 4.7 | 0.78 | 4 |\n",
       "| GUINEA_PIG | 81.9 |  7.4 |  7.2 | 2.7 | 0.85 | 4 |\n",
       "| CAT | 81.6 | 10.1 |  6.3 | 4.4 | 0.75 | 4 |\n",
       "| FOX | 81.6 |  6.6 |  5.9 | 4.9 | 0.93 | 4 |\n",
       "| LLAMA | 86.5 |  3.9 |  3.2 | 5.6 | 0.80 | 3 |\n",
       "| MULE | 90.0 |  2.0 |  1.8 | 5.5 | 0.47 | 3 |\n",
       "| PIG | 82.8 |  7.1 |  5.1 | 3.7 | 1.10 | 4 |\n",
       "| ZEBRA | 86.2 |  3.0 |  4.8 | 5.3 | 0.70 | 3 |\n",
       "| SHEEP | 82.0 |  5.6 |  6.4 | 4.7 | 0.91 | 4 |\n",
       "| DOG | 76.3 |  9.3 |  9.5 | 3.0 | 1.20 | 4 |\n",
       "| ELEPHANT | 70.7 |  3.6 | 17.6 | 5.6 | 0.63 | 2 |\n",
       "| RABBIT | 71.3 | 12.3 | 13.1 | 1.9 | 2.30 | 2 |\n",
       "| RAT | 72.5 |  9.2 | 12.6 | 3.3 | 1.40 | 2 |\n",
       "| DEER | 65.9 | 10.4 | 19.7 | 2.6 | 1.40 | 2 |\n",
       "| REINDEER | 64.8 | 10.7 | 20.3 | 2.5 | 1.40 | 2 |\n",
       "| WHALE | 64.8 | 11.1 | 21.2 | 1.6 | 1.70 | 2 |\n",
       "| SEAL | 46.4 |  9.7 | 42.0 | 0.0 | 0.85 | 1 |\n",
       "| DOLPHIN | 44.9 | 10.6 | 34.9 | 0.9 | 0.53 | 1 |\n",
       "\n"
      ],
      "text/plain": [
       "           WATER PROTEIN FAT  LACTOSE ASH  cl_num\n",
       "HORSE      90.1   2.6     1.0 6.9     0.35 3     \n",
       "ORANGUTAN  88.5   1.4     3.5 6.0     0.24 3     \n",
       "MONKEY     88.4   2.2     2.7 6.4     0.18 3     \n",
       "DONKEY     90.3   1.7     1.4 6.2     0.40 3     \n",
       "HIPPO      90.4   0.6     4.5 4.4     0.10 3     \n",
       "CAMEL      87.7   3.5     3.4 4.8     0.71 3     \n",
       "BISON      86.9   4.8     1.7 5.7     0.90 3     \n",
       "BUFFALO    82.1   5.9     7.9 4.7     0.78 4     \n",
       "GUINEA_PIG 81.9   7.4     7.2 2.7     0.85 4     \n",
       "CAT        81.6  10.1     6.3 4.4     0.75 4     \n",
       "FOX        81.6   6.6     5.9 4.9     0.93 4     \n",
       "LLAMA      86.5   3.9     3.2 5.6     0.80 3     \n",
       "MULE       90.0   2.0     1.8 5.5     0.47 3     \n",
       "PIG        82.8   7.1     5.1 3.7     1.10 4     \n",
       "ZEBRA      86.2   3.0     4.8 5.3     0.70 3     \n",
       "SHEEP      82.0   5.6     6.4 4.7     0.91 4     \n",
       "DOG        76.3   9.3     9.5 3.0     1.20 4     \n",
       "ELEPHANT   70.7   3.6    17.6 5.6     0.63 2     \n",
       "RABBIT     71.3  12.3    13.1 1.9     2.30 2     \n",
       "RAT        72.5   9.2    12.6 3.3     1.40 2     \n",
       "DEER       65.9  10.4    19.7 2.6     1.40 2     \n",
       "REINDEER   64.8  10.7    20.3 2.5     1.40 2     \n",
       "WHALE      64.8  11.1    21.2 1.6     1.70 2     \n",
       "SEAL       46.4   9.7    42.0 0.0     0.85 1     \n",
       "DOLPHIN    44.9  10.6    34.9 0.9     0.53 1     "
      ]
     },
     "metadata": {},
     "output_type": "display_data"
    }
   ],
   "source": [
    "datos$cl_num<-cl_i$cluster\n",
    "datos"
   ]
  },
  {
   "cell_type": "code",
   "execution_count": 11,
   "metadata": {},
   "outputs": [
    {
     "data": {
      "text/html": [
       "<style>\n",
       ".dl-inline {width: auto; margin:0; padding: 0}\n",
       ".dl-inline>dt, .dl-inline>dd {float: none; width: auto; display: inline-block}\n",
       ".dl-inline>dt::after {content: \":\\0020\"; padding-right: .5ex}\n",
       ".dl-inline>dt:not(:first-of-type) {padding-left: .5ex}\n",
       "</style><dl class=dl-inline><dt>1</dt><dd>45.65</dd><dt>2</dt><dd>68.3333333333333</dd><dt>4</dt><dd>81.1857142857143</dd><dt>3</dt><dd>88.5</dd></dl>\n"
      ],
      "text/latex": [
       "\\begin{description*}\n",
       "\\item[1] 45.65\n",
       "\\item[2] 68.3333333333333\n",
       "\\item[4] 81.1857142857143\n",
       "\\item[3] 88.5\n",
       "\\end{description*}\n"
      ],
      "text/markdown": [
       "1\n",
       ":   45.652\n",
       ":   68.33333333333334\n",
       ":   81.18571428571433\n",
       ":   88.5\n",
       "\n"
      ],
      "text/plain": [
       "       1        2        4        3 \n",
       "45.65000 68.33333 81.18571 88.50000 "
      ]
     },
     "metadata": {},
     "output_type": "display_data"
    },
    {
     "data": {
      "text/html": [
       "<style>\n",
       ".dl-inline {width: auto; margin:0; padding: 0}\n",
       ".dl-inline>dt, .dl-inline>dd {float: none; width: auto; display: inline-block}\n",
       ".dl-inline>dt::after {content: \":\\0020\"; padding-right: .5ex}\n",
       ".dl-inline>dt:not(:first-of-type) {padding-left: .5ex}\n",
       "</style><dl class=dl-inline><dt>3</dt><dd>2.57</dd><dt>4</dt><dd>7.42857142857143</dd><dt>2</dt><dd>9.55</dd><dt>1</dt><dd>10.15</dd></dl>\n"
      ],
      "text/latex": [
       "\\begin{description*}\n",
       "\\item[3] 2.57\n",
       "\\item[4] 7.42857142857143\n",
       "\\item[2] 9.55\n",
       "\\item[1] 10.15\n",
       "\\end{description*}\n"
      ],
      "text/markdown": [
       "3\n",
       ":   2.574\n",
       ":   7.428571428571432\n",
       ":   9.551\n",
       ":   10.15\n",
       "\n"
      ],
      "text/plain": [
       "        3         4         2         1 \n",
       " 2.570000  7.428571  9.550000 10.150000 "
      ]
     },
     "metadata": {},
     "output_type": "display_data"
    },
    {
     "data": {
      "text/html": [
       "<style>\n",
       ".dl-inline {width: auto; margin:0; padding: 0}\n",
       ".dl-inline>dt, .dl-inline>dd {float: none; width: auto; display: inline-block}\n",
       ".dl-inline>dt::after {content: \":\\0020\"; padding-right: .5ex}\n",
       ".dl-inline>dt:not(:first-of-type) {padding-left: .5ex}\n",
       "</style><dl class=dl-inline><dt>3</dt><dd>2.8</dd><dt>4</dt><dd>6.9</dd><dt>2</dt><dd>17.4166666666667</dd><dt>1</dt><dd>38.45</dd></dl>\n"
      ],
      "text/latex": [
       "\\begin{description*}\n",
       "\\item[3] 2.8\n",
       "\\item[4] 6.9\n",
       "\\item[2] 17.4166666666667\n",
       "\\item[1] 38.45\n",
       "\\end{description*}\n"
      ],
      "text/markdown": [
       "3\n",
       ":   2.84\n",
       ":   6.92\n",
       ":   17.41666666666671\n",
       ":   38.45\n",
       "\n"
      ],
      "text/plain": [
       "       3        4        2        1 \n",
       " 2.80000  6.90000 17.41667 38.45000 "
      ]
     },
     "metadata": {},
     "output_type": "display_data"
    },
    {
     "data": {
      "text/html": [
       "<style>\n",
       ".dl-inline {width: auto; margin:0; padding: 0}\n",
       ".dl-inline>dt, .dl-inline>dd {float: none; width: auto; display: inline-block}\n",
       ".dl-inline>dt::after {content: \":\\0020\"; padding-right: .5ex}\n",
       ".dl-inline>dt:not(:first-of-type) {padding-left: .5ex}\n",
       "</style><dl class=dl-inline><dt>1</dt><dd>0.45</dd><dt>2</dt><dd>2.91666666666667</dd><dt>4</dt><dd>4.01428571428571</dd><dt>3</dt><dd>5.68</dd></dl>\n"
      ],
      "text/latex": [
       "\\begin{description*}\n",
       "\\item[1] 0.45\n",
       "\\item[2] 2.91666666666667\n",
       "\\item[4] 4.01428571428571\n",
       "\\item[3] 5.68\n",
       "\\end{description*}\n"
      ],
      "text/markdown": [
       "1\n",
       ":   0.452\n",
       ":   2.916666666666674\n",
       ":   4.014285714285713\n",
       ":   5.68\n",
       "\n"
      ],
      "text/plain": [
       "       1        2        4        3 \n",
       "0.450000 2.916667 4.014286 5.680000 "
      ]
     },
     "metadata": {},
     "output_type": "display_data"
    },
    {
     "data": {
      "text/html": [
       "<style>\n",
       ".dl-inline {width: auto; margin:0; padding: 0}\n",
       ".dl-inline>dt, .dl-inline>dd {float: none; width: auto; display: inline-block}\n",
       ".dl-inline>dt::after {content: \":\\0020\"; padding-right: .5ex}\n",
       ".dl-inline>dt:not(:first-of-type) {padding-left: .5ex}\n",
       "</style><dl class=dl-inline><dt>3</dt><dd>0.485</dd><dt>1</dt><dd>0.69</dd><dt>4</dt><dd>0.931428571428571</dd><dt>2</dt><dd>1.47166666666667</dd></dl>\n"
      ],
      "text/latex": [
       "\\begin{description*}\n",
       "\\item[3] 0.485\n",
       "\\item[1] 0.69\n",
       "\\item[4] 0.931428571428571\n",
       "\\item[2] 1.47166666666667\n",
       "\\end{description*}\n"
      ],
      "text/markdown": [
       "3\n",
       ":   0.4851\n",
       ":   0.694\n",
       ":   0.9314285714285712\n",
       ":   1.47166666666667\n",
       "\n"
      ],
      "text/plain": [
       "        3         1         4         2 \n",
       "0.4850000 0.6900000 0.9314286 1.4716667 "
      ]
     },
     "metadata": {},
     "output_type": "display_data"
    }
   ],
   "source": [
    "sort(tapply(datos$WATER, datos$cl_num, mean))      #tapply(X, INDEX, FUN = NULL, …, default = NA, simplify = TRUE)\n",
    "sort(tapply(datos$PROTEIN, datos$cl_num, mean))    #X, INDEX vectores del mismo largo, FUN función a aplicar\n",
    "sort(tapply(datos$FAT, datos$cl_num, mean))\n",
    "sort(tapply(datos$LACTOSE, datos$cl_num, mean))\n",
    "sort(tapply(datos$ASH, datos$cl_num, mean))"
   ]
  },
  {
   "cell_type": "markdown",
   "metadata": {},
   "source": [
    "Si se evaluan los 4 grupos de datos de acuerdo a su media, ordenados de menor a mayor, es posible caracterizar a los grupos de acuerdo a:\n",
    "\n",
    "* Cluster **1**: Predominante en los valores de Proteina y Grasa.\n",
    "* Cluster **2**: Altos valores de agua y lactosa en su leche, con los menores aportes de grasa, proteina y calcio.\n",
    "* Cluster **3**: Grupo de aporte balanceado, caracterizado principalmente por agua y lactosa.\n",
    "* Cluster **4**: Predomina su aporte de calcio por sobre el resto de nutrientes.\n"
   ]
  },
  {
   "cell_type": "code",
   "execution_count": 12,
   "metadata": {},
   "outputs": [
    {
     "data": {
      "text/html": [
       "<style>\n",
       ".dl-inline {width: auto; margin:0; padding: 0}\n",
       ".dl-inline>dt, .dl-inline>dd {float: none; width: auto; display: inline-block}\n",
       ".dl-inline>dt::after {content: \":\\0020\"; padding-right: .5ex}\n",
       ".dl-inline>dt:not(:first-of-type) {padding-left: .5ex}\n",
       "</style><dl class=dl-inline><dt>1</dt><dd>1.125</dd><dt>3</dt><dd>2.68444444444444</dd><dt>4</dt><dd>4.80476190476191</dd><dt>2</dt><dd>12.5306666666667</dd></dl>\n"
      ],
      "text/latex": [
       "\\begin{description*}\n",
       "\\item[1] 1.125\n",
       "\\item[3] 2.68444444444444\n",
       "\\item[4] 4.80476190476191\n",
       "\\item[2] 12.5306666666667\n",
       "\\end{description*}\n"
      ],
      "text/markdown": [
       "1\n",
       ":   1.1253\n",
       ":   2.684444444444444\n",
       ":   4.804761904761912\n",
       ":   12.5306666666667\n",
       "\n"
      ],
      "text/plain": [
       "        1         3         4         2 \n",
       " 1.125000  2.684444  4.804762 12.530667 "
      ]
     },
     "metadata": {},
     "output_type": "display_data"
    },
    {
     "data": {
      "text/html": [
       "<style>\n",
       ".dl-inline {width: auto; margin:0; padding: 0}\n",
       ".dl-inline>dt, .dl-inline>dd {float: none; width: auto; display: inline-block}\n",
       ".dl-inline>dt::after {content: \":\\0020\"; padding-right: .5ex}\n",
       ".dl-inline>dt:not(:first-of-type) {padding-left: .5ex}\n",
       "</style><dl class=dl-inline><dt>1</dt><dd>0.405</dd><dt>3</dt><dd>1.58455555555556</dd><dt>4</dt><dd>2.85238095238095</dd><dt>2</dt><dd>9.507</dd></dl>\n"
      ],
      "text/latex": [
       "\\begin{description*}\n",
       "\\item[1] 0.405\n",
       "\\item[3] 1.58455555555556\n",
       "\\item[4] 2.85238095238095\n",
       "\\item[2] 9.507\n",
       "\\end{description*}\n"
      ],
      "text/markdown": [
       "1\n",
       ":   0.4053\n",
       ":   1.584555555555564\n",
       ":   2.852380952380952\n",
       ":   9.507\n",
       "\n"
      ],
      "text/plain": [
       "       1        3        4        2 \n",
       "0.405000 1.584556 2.852381 9.507000 "
      ]
     },
     "metadata": {},
     "output_type": "display_data"
    },
    {
     "data": {
      "text/html": [
       "<style>\n",
       ".dl-inline {width: auto; margin:0; padding: 0}\n",
       ".dl-inline>dt, .dl-inline>dd {float: none; width: auto; display: inline-block}\n",
       ".dl-inline>dt::after {content: \":\\0020\"; padding-right: .5ex}\n",
       ".dl-inline>dt:not(:first-of-type) {padding-left: .5ex}\n",
       "</style><dl class=dl-inline><dt>3</dt><dd>1.70222222222222</dd><dt>4</dt><dd>2.11666666666667</dd><dt>2</dt><dd>13.9416666666667</dd><dt>1</dt><dd>25.205</dd></dl>\n"
      ],
      "text/latex": [
       "\\begin{description*}\n",
       "\\item[3] 1.70222222222222\n",
       "\\item[4] 2.11666666666667\n",
       "\\item[2] 13.9416666666667\n",
       "\\item[1] 25.205\n",
       "\\end{description*}\n"
      ],
      "text/markdown": [
       "3\n",
       ":   1.702222222222224\n",
       ":   2.116666666666672\n",
       ":   13.94166666666671\n",
       ":   25.205\n",
       "\n"
      ],
      "text/plain": [
       "        3         4         2         1 \n",
       " 1.702222  2.116667 13.941667 25.205000 "
      ]
     },
     "metadata": {},
     "output_type": "display_data"
    },
    {
     "data": {
      "text/html": [
       "<style>\n",
       ".dl-inline {width: auto; margin:0; padding: 0}\n",
       ".dl-inline>dt, .dl-inline>dd {float: none; width: auto; display: inline-block}\n",
       ".dl-inline>dt::after {content: \":\\0020\"; padding-right: .5ex}\n",
       ".dl-inline>dt:not(:first-of-type) {padding-left: .5ex}\n",
       "</style><dl class=dl-inline><dt>1</dt><dd>0.405</dd><dt>3</dt><dd>0.552888888888889</dd><dt>4</dt><dd>0.788095238095238</dd><dt>2</dt><dd>2.07766666666667</dd></dl>\n"
      ],
      "text/latex": [
       "\\begin{description*}\n",
       "\\item[1] 0.405\n",
       "\\item[3] 0.552888888888889\n",
       "\\item[4] 0.788095238095238\n",
       "\\item[2] 2.07766666666667\n",
       "\\end{description*}\n"
      ],
      "text/markdown": [
       "1\n",
       ":   0.4053\n",
       ":   0.5528888888888894\n",
       ":   0.7880952380952382\n",
       ":   2.07766666666667\n",
       "\n"
      ],
      "text/plain": [
       "        1         3         4         2 \n",
       "0.4050000 0.5528889 0.7880952 2.0776667 "
      ]
     },
     "metadata": {},
     "output_type": "display_data"
    },
    {
     "data": {
      "text/html": [
       "<style>\n",
       ".dl-inline {width: auto; margin:0; padding: 0}\n",
       ".dl-inline>dt, .dl-inline>dd {float: none; width: auto; display: inline-block}\n",
       ".dl-inline>dt::after {content: \":\\0020\"; padding-right: .5ex}\n",
       ".dl-inline>dt:not(:first-of-type) {padding-left: .5ex}\n",
       "</style><dl class=dl-inline><dt>4</dt><dd>0.027247619047619</dd><dt>1</dt><dd>0.0512</dd><dt>3</dt><dd>0.07725</dd><dt>2</dt><dd>0.292416666666667</dd></dl>\n"
      ],
      "text/latex": [
       "\\begin{description*}\n",
       "\\item[4] 0.027247619047619\n",
       "\\item[1] 0.0512\n",
       "\\item[3] 0.07725\n",
       "\\item[2] 0.292416666666667\n",
       "\\end{description*}\n"
      ],
      "text/markdown": [
       "4\n",
       ":   0.0272476190476191\n",
       ":   0.05123\n",
       ":   0.077252\n",
       ":   0.292416666666667\n",
       "\n"
      ],
      "text/plain": [
       "         4          1          3          2 \n",
       "0.02724762 0.05120000 0.07725000 0.29241667 "
      ]
     },
     "metadata": {},
     "output_type": "display_data"
    }
   ],
   "source": [
    "sort(tapply(datos$WATER, datos$cl_num, var))\n",
    "sort(tapply(datos$PROTEIN, datos$cl_num, var))\n",
    "sort(tapply(datos$FAT, datos$cl_num, var))\n",
    "sort(tapply(datos$LACTOSE, datos$cl_num, var))\n",
    "sort(tapply(datos$ASH, datos$cl_num, var))"
   ]
  },
  {
   "cell_type": "markdown",
   "metadata": {},
   "source": [
    "En cambio, si se comparar de acuerdo a su varianza (ignorando la diferencia de cardinalidad entr grupos), es posible observar que:\n",
    "* Cluster **1**: Posee las menores varianzas en sus diversos componentes, siendo el cluster una buena representación de sus elementos.\n",
    "* Cluster **2**: Similar al anterior, posee bajas diferencias entre sus componentes siendo altamente concentrado.\n",
    "* Cluster **3**: Presenta sus mayores variaciones en los componentes de agua y nutrientes, siendo más regular en los otros.\n",
    "* Cluster **4**: Con una varianza significativa es el grupo más disperso, a causa de sólo identificarse por un alto valor de calcio.\n"
   ]
  },
  {
   "cell_type": "markdown",
   "metadata": {},
   "source": [
    "---"
   ]
  },
  {
   "cell_type": "markdown",
   "metadata": {},
   "source": [
    "### Ejercicio 2:\n",
    "\n",
    "Realice un análisis de clustering con el conjunto de datos comunas.csv. \n",
    "1. Describa los datos y discuta la pertinencia de realizar un análisis de clustering o agrupamiento\n",
    "2. Utilice k-means para realizar el clustering de los datos y calcule el K óptimo. \n",
    "3. Caracterice los grupos obtenidos con el K óptimo. Interprete sus resultados\n"
   ]
  },
  {
   "cell_type": "markdown",
   "metadata": {},
   "source": [
    "#### **Respuesta 2.1**"
   ]
  },
  {
   "cell_type": "code",
   "execution_count": 31,
   "metadata": {
    "scrolled": true
   },
   "outputs": [],
   "source": [
    "datos <- read.csv(\"comunas.csv\",header=TRUE,sep=\";\",dec=\".\", fileEncoding=\"latin1\")"
   ]
  },
  {
   "cell_type": "code",
   "execution_count": 32,
   "metadata": {},
   "outputs": [
    {
     "data": {
      "text/html": [
       "<table>\n",
       "<caption>A data.frame: 323 × 14</caption>\n",
       "<thead>\n",
       "\t<tr><th scope=col>Regiï..n</th><th scope=col>Comuna</th><th scope=col>Poblaciï..n..miles..2011</th><th scope=col>IDSE</th><th scope=col>Ingreso.per.cï..p..Mens..miles....2006.11</th><th scope=col>Pobreza...2006.11</th><th scope=col>Escolaridad..aï..os..2006.11</th><th scope=col>Material.Vivienda.bueno.o.acceptable...2006</th><th scope=col>Alcantarillado.o.Fosa.S.pt....2006</th><th scope=col>Esperanza.vida.al.nacer..aï..os..2005.10</th><th scope=col>X.ndice.Desarrollo.Humano</th><th scope=col>Tasa.AVPP.x.1000.h.2007.11</th><th scope=col>X..defunc..50..aï..os.2011</th><th scope=col>Mortalidad.Infantil.x.1000.NV.2009.11</th></tr>\n",
       "\t<tr><th scope=col>&lt;int&gt;</th><th scope=col>&lt;chr&gt;</th><th scope=col>&lt;dbl&gt;</th><th scope=col>&lt;dbl&gt;</th><th scope=col>&lt;dbl&gt;</th><th scope=col>&lt;dbl&gt;</th><th scope=col>&lt;dbl&gt;</th><th scope=col>&lt;dbl&gt;</th><th scope=col>&lt;dbl&gt;</th><th scope=col>&lt;dbl&gt;</th><th scope=col>&lt;dbl&gt;</th><th scope=col>&lt;dbl&gt;</th><th scope=col>&lt;dbl&gt;</th><th scope=col>&lt;dbl&gt;</th></tr>\n",
       "</thead>\n",
       "<tbody>\n",
       "\t<tr><td>1</td><td>Iquique             </td><td>186.0</td><td>0.698</td><td>227.6</td><td>10.2</td><td>11.1</td><td>81.8</td><td>98.8</td><td>77.2</td><td>0.631</td><td> 82.1</td><td>73.0</td><td> 8.9</td></tr>\n",
       "\t<tr><td>1</td><td>Pica                </td><td> 18.6</td><td>0.604</td><td>188.1</td><td>12.2</td><td> 9.6</td><td>71.0</td><td>94.0</td><td>77.5</td><td>0.572</td><td> 23.0</td><td>45.8</td><td> 9.8</td></tr>\n",
       "\t<tr><td>1</td><td>Pozo Almonte        </td><td> 17.3</td><td>0.591</td><td>176.0</td><td> 9.8</td><td> 9.7</td><td>73.1</td><td>83.5</td><td>77.3</td><td>0.574</td><td> 44.3</td><td>66.7</td><td> 7.1</td></tr>\n",
       "\t<tr><td>1</td><td>Alto Hospicio       </td><td> 93.8</td><td>0.577</td><td>166.3</td><td>20.9</td><td>10.1</td><td>65.9</td><td>98.4</td><td>78.1</td><td>0.555</td><td> 46.7</td><td>56.2</td><td> 4.9</td></tr>\n",
       "\t<tr><td>1</td><td>Huara               </td><td>  3.4</td><td>0.382</td><td>161.4</td><td>10.0</td><td> 7.6</td><td>49.0</td><td>38.9</td><td>81.8</td><td>0.592</td><td> 55.8</td><td>44.4</td><td> 8.9</td></tr>\n",
       "\t<tr><td>2</td><td>Calama              </td><td>148.8</td><td>0.717</td><td>269.3</td><td> 8.5</td><td>10.9</td><td>85.0</td><td>98.9</td><td>76.2</td><td>0.625</td><td> 87.2</td><td>63.4</td><td> 9.7</td></tr>\n",
       "\t<tr><td>2</td><td>Antofagasta         </td><td>373.0</td><td>0.714</td><td>256.5</td><td> 7.1</td><td>11.0</td><td>80.6</td><td>99.0</td><td>76.1</td><td>0.627</td><td> 75.1</td><td>72.2</td><td> 7.3</td></tr>\n",
       "\t<tr><td>2</td><td>Marï¿½a Elena       </td><td>  3.7</td><td>0.698</td><td>218.9</td><td> 6.1</td><td>10.9</td><td>77.6</td><td>98.1</td><td>72.0</td><td>0.536</td><td> 74.6</td><td>66.7</td><td> 0.0</td></tr>\n",
       "\t<tr><td>2</td><td>Mejillones          </td><td> 11.1</td><td>0.697</td><td>228.8</td><td> 5.8</td><td>10.1</td><td>88.6</td><td>99.1</td><td>74.9</td><td>0.571</td><td> 59.1</td><td>65.8</td><td> 2.1</td></tr>\n",
       "\t<tr><td>2</td><td>Sierra Gorda        </td><td>  3.7</td><td>0.684</td><td>259.3</td><td> 2.9</td><td> 9.6</td><td>78.4</td><td>98.4</td><td>73.4</td><td>0.548</td><td> 35.4</td><td>60.0</td><td>20.8</td></tr>\n",
       "\t<tr><td>2</td><td>Taltal              </td><td> 10.6</td><td>0.675</td><td>322.7</td><td> 6.5</td><td> 9.8</td><td>73.9</td><td>95.8</td><td>73.4</td><td>0.552</td><td> 85.0</td><td>80.9</td><td> 7.6</td></tr>\n",
       "\t<tr><td>2</td><td>Tocopilla           </td><td> 21.3</td><td>0.664</td><td>209.4</td><td>11.1</td><td>10.3</td><td>81.9</td><td>98.4</td><td>72.7</td><td>0.509</td><td>115.3</td><td>75.3</td><td>11.1</td></tr>\n",
       "\t<tr><td>2</td><td>San Pedro de Atacama</td><td>  9.3</td><td>0.602</td><td>289.1</td><td> 5.8</td><td> 9.1</td><td>65.8</td><td>80.8</td><td>72.6</td><td>0.509</td><td> 53.4</td><td>47.6</td><td> 7.0</td></tr>\n",
       "\t<tr><td>3</td><td>Diego de Almagro    </td><td> 11.7</td><td>0.700</td><td>319.8</td><td> 7.3</td><td>10.6</td><td>81.0</td><td>91.7</td><td>76.1</td><td>0.627</td><td> 83.9</td><td>81.7</td><td> 8.3</td></tr>\n",
       "\t<tr><td>3</td><td>Copiapï¿½           </td><td>163.9</td><td>0.671</td><td>219.4</td><td>14.5</td><td>10.7</td><td>85.9</td><td>97.6</td><td>77.7</td><td>0.609</td><td> 69.0</td><td>72.6</td><td>10.2</td></tr>\n",
       "\t<tr><td>3</td><td>Caldera             </td><td> 15.2</td><td>0.643</td><td>220.5</td><td>14.3</td><td>10.2</td><td>76.5</td><td>98.8</td><td>78.3</td><td>0.606</td><td> 67.9</td><td>71.0</td><td> 9.5</td></tr>\n",
       "\t<tr><td>3</td><td>Huasco              </td><td>  8.0</td><td>0.628</td><td>177.1</td><td>11.2</td><td>10.1</td><td>77.6</td><td>93.5</td><td>75.3</td><td>0.542</td><td> 88.9</td><td>72.4</td><td> 9.0</td></tr>\n",
       "\t<tr><td>3</td><td>Vallenar            </td><td> 46.5</td><td>0.595</td><td>194.2</td><td>14.7</td><td> 9.8</td><td>69.0</td><td>92.1</td><td>76.7</td><td>0.554</td><td> 89.8</td><td>78.4</td><td> 9.7</td></tr>\n",
       "\t<tr><td>3</td><td>Chaï¿½aral          </td><td> 12.7</td><td>0.590</td><td>210.0</td><td>14.3</td><td> 9.7</td><td>59.5</td><td>97.1</td><td>75.3</td><td>0.526</td><td> 92.4</td><td>83.3</td><td>12.4</td></tr>\n",
       "\t<tr><td>3</td><td>Tierra Amarilla     </td><td> 13.9</td><td>0.548</td><td>194.4</td><td>12.9</td><td> 8.9</td><td>71.8</td><td>78.4</td><td>76.9</td><td>0.537</td><td> 70.3</td><td>69.8</td><td> 5.3</td></tr>\n",
       "\t<tr><td>3</td><td>Freirina            </td><td>  5.9</td><td>0.546</td><td>170.3</td><td>10.4</td><td> 9.1</td><td>70.0</td><td>75.5</td><td>75.6</td><td>0.518</td><td> 77.1</td><td>92.9</td><td> 7.1</td></tr>\n",
       "\t<tr><td>3</td><td>Alto del Carmen     </td><td>  4.8</td><td>0.503</td><td>173.4</td><td> 4.5</td><td> 8.3</td><td>59.9</td><td>63.0</td><td>74.7</td><td>0.501</td><td> 68.4</td><td>88.2</td><td> 9.6</td></tr>\n",
       "\t<tr><td>4</td><td>La Serena           </td><td>214.7</td><td>0.669</td><td>194.3</td><td>14.5</td><td>10.6</td><td>90.7</td><td>97.9</td><td>78.7</td><td>0.619</td><td> 62.8</td><td>77.7</td><td> 7.9</td></tr>\n",
       "\t<tr><td>4</td><td>Coquimbo            </td><td>215.1</td><td>0.657</td><td>183.1</td><td>13.0</td><td>10.4</td><td>87.4</td><td>97.0</td><td>79.0</td><td>0.620</td><td> 59.2</td><td>76.3</td><td> 7.8</td></tr>\n",
       "\t<tr><td>4</td><td>Paiguano            </td><td>  4.5</td><td>0.584</td><td>142.4</td><td> 7.0</td><td> 8.8</td><td>86.5</td><td>83.3</td><td>77.4</td><td>0.547</td><td> 53.8</td><td>75.9</td><td> 5.1</td></tr>\n",
       "\t<tr><td>4</td><td>Illapel             </td><td> 31.4</td><td>0.575</td><td>164.7</td><td>11.3</td><td> 9.2</td><td>85.4</td><td>78.1</td><td>78.4</td><td>0.570</td><td> 72.1</td><td>80.2</td><td> 9.7</td></tr>\n",
       "\t<tr><td>4</td><td>Vicuï¿½a            </td><td> 26.6</td><td>0.568</td><td>162.7</td><td>17.2</td><td> 9.3</td><td>79.0</td><td>90.1</td><td>79.3</td><td>0.567</td><td> 60.7</td><td>77.2</td><td> 4.0</td></tr>\n",
       "\t<tr><td>4</td><td>Andacollo           </td><td>  8.5</td><td>0.557</td><td>170.8</td><td>20.7</td><td> 9.0</td><td>85.3</td><td>88.8</td><td>75.3</td><td>0.467</td><td> 96.3</td><td>82.9</td><td>10.7</td></tr>\n",
       "\t<tr><td>4</td><td>Salamanca           </td><td> 25.7</td><td>0.524</td><td>154.6</td><td>16.2</td><td> 8.9</td><td>78.7</td><td>76.1</td><td>78.4</td><td>0.535</td><td> 70.9</td><td>75.7</td><td> 6.0</td></tr>\n",
       "\t<tr><td>4</td><td>Ovalle              </td><td>112.1</td><td>0.519</td><td>134.1</td><td>23.7</td><td> 9.4</td><td>75.2</td><td>87.2</td><td>78.5</td><td>0.514</td><td> 69.2</td><td>77.5</td><td> 5.4</td></tr>\n",
       "\t<tr><td>...</td><td>...</td><td>...</td><td>...</td><td>...</td><td>...</td><td>...</td><td>...</td><td>...</td><td>...</td><td>...</td><td>...</td><td>...</td><td>...</td></tr>\n",
       "\t<tr><td>13</td><td>San Bernardo </td><td>311.0</td><td>0.605</td><td>154.7</td><td>18.4</td><td> 9.9</td><td>83.3</td><td>99.1</td><td>76.7</td><td>0.525</td><td> 69.7</td><td>72.7</td><td> 9.0</td></tr>\n",
       "\t<tr><td>13</td><td>Lo Espejo    </td><td> 99.1</td><td>0.602</td><td>151.3</td><td>19.5</td><td> 9.9</td><td>87.1</td><td>97.6</td><td>75.4</td><td>0.494</td><td> 99.9</td><td>75.4</td><td> 8.8</td></tr>\n",
       "\t<tr><td>13</td><td>Renca        </td><td>130.8</td><td>0.596</td><td>152.2</td><td>19.6</td><td>10.0</td><td>83.1</td><td>96.3</td><td>76.4</td><td>0.516</td><td> 86.4</td><td>69.7</td><td> 6.8</td></tr>\n",
       "\t<tr><td>13</td><td>Isla de Maipo</td><td> 31.8</td><td>0.593</td><td>150.1</td><td>11.0</td><td> 9.3</td><td>84.1</td><td>88.2</td><td>76.9</td><td>0.540</td><td> 71.2</td><td>76.0</td><td> 8.2</td></tr>\n",
       "\t<tr><td>13</td><td>La Granja    </td><td>123.4</td><td>0.592</td><td>149.8</td><td>17.8</td><td> 9.9</td><td>80.9</td><td>94.0</td><td>76.7</td><td>0.528</td><td> 83.8</td><td>77.2</td><td> 8.1</td></tr>\n",
       "\t<tr><td>13</td><td>Paine        </td><td> 65.4</td><td>0.590</td><td>165.1</td><td>11.2</td><td> 9.4</td><td>81.5</td><td>85.0</td><td>78.4</td><td>0.578</td><td> 58.2</td><td>72.7</td><td> 6.9</td></tr>\n",
       "\t<tr><td>13</td><td>Melipilla    </td><td>107.2</td><td>0.589</td><td>166.7</td><td>11.2</td><td> 9.7</td><td>75.8</td><td>84.3</td><td>76.9</td><td>0.558</td><td> 81.3</td><td>74.4</td><td> 7.4</td></tr>\n",
       "\t<tr><td>13</td><td>El Monte     </td><td> 31.3</td><td>0.583</td><td>172.7</td><td>16.0</td><td> 9.8</td><td>77.8</td><td>86.9</td><td>77.7</td><td>0.559</td><td> 61.8</td><td>79.4</td><td> 7.1</td></tr>\n",
       "\t<tr><td>13</td><td>Tiltil       </td><td> 16.4</td><td>0.579</td><td>163.8</td><td> 9.9</td><td> 9.3</td><td>76.8</td><td>82.5</td><td>76.3</td><td>0.539</td><td> 72.5</td><td>66.7</td><td>12.3</td></tr>\n",
       "\t<tr><td>13</td><td>San Ramï¿½n  </td><td> 84.0</td><td>0.575</td><td>157.0</td><td>19.1</td><td> 9.6</td><td>79.1</td><td>93.3</td><td>76.3</td><td>0.506</td><td> 98.1</td><td>78.3</td><td> 6.8</td></tr>\n",
       "\t<tr><td>13</td><td>Cerro Navia  </td><td>133.9</td><td>0.562</td><td>141.3</td><td>16.8</td><td> 9.1</td><td>77.2</td><td>95.7</td><td>75.8</td><td>0.482</td><td> 97.2</td><td>75.0</td><td> 7.8</td></tr>\n",
       "\t<tr><td>13</td><td>La Pintana   </td><td>202.6</td><td>0.561</td><td>135.8</td><td>20.1</td><td> 8.9</td><td>90.2</td><td>94.4</td><td>77.2</td><td>0.490</td><td> 79.4</td><td>63.4</td><td> 6.6</td></tr>\n",
       "\t<tr><td>13</td><td>Lampa        </td><td> 64.8</td><td>0.550</td><td>140.2</td><td>18.2</td><td> 9.1</td><td>84.4</td><td>87.2</td><td>77.3</td><td>0.505</td><td> 65.9</td><td>67.9</td><td> 3.8</td></tr>\n",
       "\t<tr><td>13</td><td>Alhu?        </td><td>  4.6</td><td>0.546</td><td>175.1</td><td> 9.2</td><td> 8.6</td><td>78.8</td><td>72.4</td><td>75.7</td><td>0.511</td><td> 69.1</td><td>84.2</td><td> 0.0</td></tr>\n",
       "\t<tr><td>13</td><td>Marï¿½a Pinto</td><td> 11.8</td><td>0.542</td><td>140.3</td><td> 9.3</td><td> 8.4</td><td>82.7</td><td>78.0</td><td>76.6</td><td>0.507</td><td> 69.0</td><td>75.3</td><td> 8.7</td></tr>\n",
       "\t<tr><td>13</td><td>San Pedro    </td><td>  8.1</td><td>0.484</td><td>141.3</td><td> 5.9</td><td> 7.8</td><td>81.6</td><td>54.3</td><td>77.6</td><td>0.522</td><td> 69.3</td><td>74.0</td><td> 6.5</td></tr>\n",
       "\t<tr><td>14</td><td>Valdivia     </td><td>161.7</td><td>0.652</td><td>202.7</td><td>17.1</td><td>10.6</td><td>88.7</td><td>95.3</td><td>76.8</td><td>0.573</td><td> 78.9</td><td>75.5</td><td> 6.9</td></tr>\n",
       "\t<tr><td>14</td><td>Los Lagos    </td><td> 21.7</td><td>0.549</td><td>149.8</td><td>15.7</td><td> 8.4</td><td>91.8</td><td>84.5</td><td>76.7</td><td>0.486</td><td> 72.5</td><td>77.3</td><td> 7.1</td></tr>\n",
       "\t<tr><td>14</td><td>Mï¿½fil      </td><td>  7.0</td><td>0.534</td><td>158.6</td><td>16.5</td><td> 8.7</td><td>88.7</td><td>75.2</td><td>71.9</td><td>0.401</td><td> 99.8</td><td>79.3</td><td> 7.9</td></tr>\n",
       "\t<tr><td>14</td><td>Paillaco     </td><td> 19.9</td><td>0.523</td><td>139.1</td><td>19.3</td><td> 8.6</td><td>92.4</td><td>78.4</td><td>75.1</td><td>0.442</td><td>100.7</td><td>80.1</td><td>10.2</td></tr>\n",
       "\t<tr><td>14</td><td>Linares      </td><td> 91.1</td><td>0.514</td><td>145.5</td><td>23.8</td><td> 9.2</td><td>74.6</td><td>85.9</td><td>76.6</td><td>0.476</td><td> 87.3</td><td>77.2</td><td> 8.7</td></tr>\n",
       "\t<tr><td>14</td><td>Lanco        </td><td> 16.6</td><td>0.513</td><td>137.3</td><td>20.5</td><td> 8.7</td><td>91.3</td><td>75.3</td><td>74.9</td><td>0.436</td><td> 90.7</td><td>72.5</td><td> 5.4</td></tr>\n",
       "\t<tr><td>14</td><td>Rï¿½o Bueno  </td><td> 31.3</td><td>0.510</td><td>146.1</td><td>21.2</td><td> 8.1</td><td>94.9</td><td>79.3</td><td>75.4</td><td>0.428</td><td> 96.5</td><td>76.4</td><td> 6.1</td></tr>\n",
       "\t<tr><td>14</td><td>La Uniï¿½n   </td><td> 38.8</td><td>0.499</td><td>156.5</td><td>19.6</td><td> 8.9</td><td>77.4</td><td>70.7</td><td>75.9</td><td>0.475</td><td> 91.9</td><td>78.6</td><td> 7.4</td></tr>\n",
       "\t<tr><td>14</td><td>Mariquina    </td><td> 18.4</td><td>0.488</td><td>152.4</td><td>20.2</td><td> 8.4</td><td>87.2</td><td>66.5</td><td>74.9</td><td>0.437</td><td> 98.2</td><td>77.9</td><td>13.7</td></tr>\n",
       "\t<tr><td>14</td><td>Futrono      </td><td> 15.8</td><td>0.467</td><td>129.9</td><td>20.8</td><td> 8.3</td><td>79.6</td><td>70.7</td><td>75.9</td><td>0.438</td><td> 73.8</td><td>69.9</td><td> 0.0</td></tr>\n",
       "\t<tr><td>14</td><td>Corral       </td><td>  5.0</td><td>0.444</td><td>115.0</td><td>19.2</td><td> 7.9</td><td>87.2</td><td>60.8</td><td>76.4</td><td>0.435</td><td> 66.1</td><td>70.0</td><td>10.2</td></tr>\n",
       "\t<tr><td>14</td><td>Panguipulli  </td><td> 35.1</td><td>0.424</td><td>126.5</td><td>23.5</td><td> 7.7</td><td>81.2</td><td>64.7</td><td>75.9</td><td>0.406</td><td> 93.8</td><td>73.8</td><td> 9.2</td></tr>\n",
       "\t<tr><td>14</td><td>Lago Ranco   </td><td>  9.5</td><td>0.418</td><td>134.9</td><td>21.3</td><td> 7.9</td><td>86.3</td><td>49.0</td><td>73.2</td><td>0.372</td><td>111.9</td><td>73.1</td><td> 6.0</td></tr>\n",
       "\t<tr><td>15</td><td>Arica        </td><td>179.0</td><td>0.643</td><td>228.7</td><td>15.7</td><td>10.9</td><td>75.1</td><td>91.2</td><td>77.1</td><td>0.601</td><td> 86.8</td><td>75.0</td><td> 7.5</td></tr>\n",
       "</tbody>\n",
       "</table>\n"
      ],
      "text/latex": [
       "A data.frame: 323 × 14\n",
       "\\begin{tabular}{llllllllllllll}\n",
       " Regiï..n & Comuna & Poblaciï..n..miles..2011 & IDSE & Ingreso.per.cï..p..Mens..miles....2006.11 & Pobreza...2006.11 & Escolaridad..aï..os..2006.11 & Material.Vivienda.bueno.o.acceptable...2006 & Alcantarillado.o.Fosa.S.pt....2006 & Esperanza.vida.al.nacer..aï..os..2005.10 & X.ndice.Desarrollo.Humano & Tasa.AVPP.x.1000.h.2007.11 & X..defunc..50..aï..os.2011 & Mortalidad.Infantil.x.1000.NV.2009.11\\\\\n",
       " <int> & <chr> & <dbl> & <dbl> & <dbl> & <dbl> & <dbl> & <dbl> & <dbl> & <dbl> & <dbl> & <dbl> & <dbl> & <dbl>\\\\\n",
       "\\hline\n",
       "\t 1 & Iquique              & 186.0 & 0.698 & 227.6 & 10.2 & 11.1 & 81.8 & 98.8 & 77.2 & 0.631 &  82.1 & 73.0 &  8.9\\\\\n",
       "\t 1 & Pica                 &  18.6 & 0.604 & 188.1 & 12.2 &  9.6 & 71.0 & 94.0 & 77.5 & 0.572 &  23.0 & 45.8 &  9.8\\\\\n",
       "\t 1 & Pozo Almonte         &  17.3 & 0.591 & 176.0 &  9.8 &  9.7 & 73.1 & 83.5 & 77.3 & 0.574 &  44.3 & 66.7 &  7.1\\\\\n",
       "\t 1 & Alto Hospicio        &  93.8 & 0.577 & 166.3 & 20.9 & 10.1 & 65.9 & 98.4 & 78.1 & 0.555 &  46.7 & 56.2 &  4.9\\\\\n",
       "\t 1 & Huara                &   3.4 & 0.382 & 161.4 & 10.0 &  7.6 & 49.0 & 38.9 & 81.8 & 0.592 &  55.8 & 44.4 &  8.9\\\\\n",
       "\t 2 & Calama               & 148.8 & 0.717 & 269.3 &  8.5 & 10.9 & 85.0 & 98.9 & 76.2 & 0.625 &  87.2 & 63.4 &  9.7\\\\\n",
       "\t 2 & Antofagasta          & 373.0 & 0.714 & 256.5 &  7.1 & 11.0 & 80.6 & 99.0 & 76.1 & 0.627 &  75.1 & 72.2 &  7.3\\\\\n",
       "\t 2 & Marï¿½a Elena        &   3.7 & 0.698 & 218.9 &  6.1 & 10.9 & 77.6 & 98.1 & 72.0 & 0.536 &  74.6 & 66.7 &  0.0\\\\\n",
       "\t 2 & Mejillones           &  11.1 & 0.697 & 228.8 &  5.8 & 10.1 & 88.6 & 99.1 & 74.9 & 0.571 &  59.1 & 65.8 &  2.1\\\\\n",
       "\t 2 & Sierra Gorda         &   3.7 & 0.684 & 259.3 &  2.9 &  9.6 & 78.4 & 98.4 & 73.4 & 0.548 &  35.4 & 60.0 & 20.8\\\\\n",
       "\t 2 & Taltal               &  10.6 & 0.675 & 322.7 &  6.5 &  9.8 & 73.9 & 95.8 & 73.4 & 0.552 &  85.0 & 80.9 &  7.6\\\\\n",
       "\t 2 & Tocopilla            &  21.3 & 0.664 & 209.4 & 11.1 & 10.3 & 81.9 & 98.4 & 72.7 & 0.509 & 115.3 & 75.3 & 11.1\\\\\n",
       "\t 2 & San Pedro de Atacama &   9.3 & 0.602 & 289.1 &  5.8 &  9.1 & 65.8 & 80.8 & 72.6 & 0.509 &  53.4 & 47.6 &  7.0\\\\\n",
       "\t 3 & Diego de Almagro     &  11.7 & 0.700 & 319.8 &  7.3 & 10.6 & 81.0 & 91.7 & 76.1 & 0.627 &  83.9 & 81.7 &  8.3\\\\\n",
       "\t 3 & Copiapï¿½            & 163.9 & 0.671 & 219.4 & 14.5 & 10.7 & 85.9 & 97.6 & 77.7 & 0.609 &  69.0 & 72.6 & 10.2\\\\\n",
       "\t 3 & Caldera              &  15.2 & 0.643 & 220.5 & 14.3 & 10.2 & 76.5 & 98.8 & 78.3 & 0.606 &  67.9 & 71.0 &  9.5\\\\\n",
       "\t 3 & Huasco               &   8.0 & 0.628 & 177.1 & 11.2 & 10.1 & 77.6 & 93.5 & 75.3 & 0.542 &  88.9 & 72.4 &  9.0\\\\\n",
       "\t 3 & Vallenar             &  46.5 & 0.595 & 194.2 & 14.7 &  9.8 & 69.0 & 92.1 & 76.7 & 0.554 &  89.8 & 78.4 &  9.7\\\\\n",
       "\t 3 & Chaï¿½aral           &  12.7 & 0.590 & 210.0 & 14.3 &  9.7 & 59.5 & 97.1 & 75.3 & 0.526 &  92.4 & 83.3 & 12.4\\\\\n",
       "\t 3 & Tierra Amarilla      &  13.9 & 0.548 & 194.4 & 12.9 &  8.9 & 71.8 & 78.4 & 76.9 & 0.537 &  70.3 & 69.8 &  5.3\\\\\n",
       "\t 3 & Freirina             &   5.9 & 0.546 & 170.3 & 10.4 &  9.1 & 70.0 & 75.5 & 75.6 & 0.518 &  77.1 & 92.9 &  7.1\\\\\n",
       "\t 3 & Alto del Carmen      &   4.8 & 0.503 & 173.4 &  4.5 &  8.3 & 59.9 & 63.0 & 74.7 & 0.501 &  68.4 & 88.2 &  9.6\\\\\n",
       "\t 4 & La Serena            & 214.7 & 0.669 & 194.3 & 14.5 & 10.6 & 90.7 & 97.9 & 78.7 & 0.619 &  62.8 & 77.7 &  7.9\\\\\n",
       "\t 4 & Coquimbo             & 215.1 & 0.657 & 183.1 & 13.0 & 10.4 & 87.4 & 97.0 & 79.0 & 0.620 &  59.2 & 76.3 &  7.8\\\\\n",
       "\t 4 & Paiguano             &   4.5 & 0.584 & 142.4 &  7.0 &  8.8 & 86.5 & 83.3 & 77.4 & 0.547 &  53.8 & 75.9 &  5.1\\\\\n",
       "\t 4 & Illapel              &  31.4 & 0.575 & 164.7 & 11.3 &  9.2 & 85.4 & 78.1 & 78.4 & 0.570 &  72.1 & 80.2 &  9.7\\\\\n",
       "\t 4 & Vicuï¿½a             &  26.6 & 0.568 & 162.7 & 17.2 &  9.3 & 79.0 & 90.1 & 79.3 & 0.567 &  60.7 & 77.2 &  4.0\\\\\n",
       "\t 4 & Andacollo            &   8.5 & 0.557 & 170.8 & 20.7 &  9.0 & 85.3 & 88.8 & 75.3 & 0.467 &  96.3 & 82.9 & 10.7\\\\\n",
       "\t 4 & Salamanca            &  25.7 & 0.524 & 154.6 & 16.2 &  8.9 & 78.7 & 76.1 & 78.4 & 0.535 &  70.9 & 75.7 &  6.0\\\\\n",
       "\t 4 & Ovalle               & 112.1 & 0.519 & 134.1 & 23.7 &  9.4 & 75.2 & 87.2 & 78.5 & 0.514 &  69.2 & 77.5 &  5.4\\\\\n",
       "\t ... & ... & ... & ... & ... & ... & ... & ... & ... & ... & ... & ... & ... & ...\\\\\n",
       "\t 13 & San Bernardo  & 311.0 & 0.605 & 154.7 & 18.4 &  9.9 & 83.3 & 99.1 & 76.7 & 0.525 &  69.7 & 72.7 &  9.0\\\\\n",
       "\t 13 & Lo Espejo     &  99.1 & 0.602 & 151.3 & 19.5 &  9.9 & 87.1 & 97.6 & 75.4 & 0.494 &  99.9 & 75.4 &  8.8\\\\\n",
       "\t 13 & Renca         & 130.8 & 0.596 & 152.2 & 19.6 & 10.0 & 83.1 & 96.3 & 76.4 & 0.516 &  86.4 & 69.7 &  6.8\\\\\n",
       "\t 13 & Isla de Maipo &  31.8 & 0.593 & 150.1 & 11.0 &  9.3 & 84.1 & 88.2 & 76.9 & 0.540 &  71.2 & 76.0 &  8.2\\\\\n",
       "\t 13 & La Granja     & 123.4 & 0.592 & 149.8 & 17.8 &  9.9 & 80.9 & 94.0 & 76.7 & 0.528 &  83.8 & 77.2 &  8.1\\\\\n",
       "\t 13 & Paine         &  65.4 & 0.590 & 165.1 & 11.2 &  9.4 & 81.5 & 85.0 & 78.4 & 0.578 &  58.2 & 72.7 &  6.9\\\\\n",
       "\t 13 & Melipilla     & 107.2 & 0.589 & 166.7 & 11.2 &  9.7 & 75.8 & 84.3 & 76.9 & 0.558 &  81.3 & 74.4 &  7.4\\\\\n",
       "\t 13 & El Monte      &  31.3 & 0.583 & 172.7 & 16.0 &  9.8 & 77.8 & 86.9 & 77.7 & 0.559 &  61.8 & 79.4 &  7.1\\\\\n",
       "\t 13 & Tiltil        &  16.4 & 0.579 & 163.8 &  9.9 &  9.3 & 76.8 & 82.5 & 76.3 & 0.539 &  72.5 & 66.7 & 12.3\\\\\n",
       "\t 13 & San Ramï¿½n   &  84.0 & 0.575 & 157.0 & 19.1 &  9.6 & 79.1 & 93.3 & 76.3 & 0.506 &  98.1 & 78.3 &  6.8\\\\\n",
       "\t 13 & Cerro Navia   & 133.9 & 0.562 & 141.3 & 16.8 &  9.1 & 77.2 & 95.7 & 75.8 & 0.482 &  97.2 & 75.0 &  7.8\\\\\n",
       "\t 13 & La Pintana    & 202.6 & 0.561 & 135.8 & 20.1 &  8.9 & 90.2 & 94.4 & 77.2 & 0.490 &  79.4 & 63.4 &  6.6\\\\\n",
       "\t 13 & Lampa         &  64.8 & 0.550 & 140.2 & 18.2 &  9.1 & 84.4 & 87.2 & 77.3 & 0.505 &  65.9 & 67.9 &  3.8\\\\\n",
       "\t 13 & Alhu?         &   4.6 & 0.546 & 175.1 &  9.2 &  8.6 & 78.8 & 72.4 & 75.7 & 0.511 &  69.1 & 84.2 &  0.0\\\\\n",
       "\t 13 & Marï¿½a Pinto &  11.8 & 0.542 & 140.3 &  9.3 &  8.4 & 82.7 & 78.0 & 76.6 & 0.507 &  69.0 & 75.3 &  8.7\\\\\n",
       "\t 13 & San Pedro     &   8.1 & 0.484 & 141.3 &  5.9 &  7.8 & 81.6 & 54.3 & 77.6 & 0.522 &  69.3 & 74.0 &  6.5\\\\\n",
       "\t 14 & Valdivia      & 161.7 & 0.652 & 202.7 & 17.1 & 10.6 & 88.7 & 95.3 & 76.8 & 0.573 &  78.9 & 75.5 &  6.9\\\\\n",
       "\t 14 & Los Lagos     &  21.7 & 0.549 & 149.8 & 15.7 &  8.4 & 91.8 & 84.5 & 76.7 & 0.486 &  72.5 & 77.3 &  7.1\\\\\n",
       "\t 14 & Mï¿½fil       &   7.0 & 0.534 & 158.6 & 16.5 &  8.7 & 88.7 & 75.2 & 71.9 & 0.401 &  99.8 & 79.3 &  7.9\\\\\n",
       "\t 14 & Paillaco      &  19.9 & 0.523 & 139.1 & 19.3 &  8.6 & 92.4 & 78.4 & 75.1 & 0.442 & 100.7 & 80.1 & 10.2\\\\\n",
       "\t 14 & Linares       &  91.1 & 0.514 & 145.5 & 23.8 &  9.2 & 74.6 & 85.9 & 76.6 & 0.476 &  87.3 & 77.2 &  8.7\\\\\n",
       "\t 14 & Lanco         &  16.6 & 0.513 & 137.3 & 20.5 &  8.7 & 91.3 & 75.3 & 74.9 & 0.436 &  90.7 & 72.5 &  5.4\\\\\n",
       "\t 14 & Rï¿½o Bueno   &  31.3 & 0.510 & 146.1 & 21.2 &  8.1 & 94.9 & 79.3 & 75.4 & 0.428 &  96.5 & 76.4 &  6.1\\\\\n",
       "\t 14 & La Uniï¿½n    &  38.8 & 0.499 & 156.5 & 19.6 &  8.9 & 77.4 & 70.7 & 75.9 & 0.475 &  91.9 & 78.6 &  7.4\\\\\n",
       "\t 14 & Mariquina     &  18.4 & 0.488 & 152.4 & 20.2 &  8.4 & 87.2 & 66.5 & 74.9 & 0.437 &  98.2 & 77.9 & 13.7\\\\\n",
       "\t 14 & Futrono       &  15.8 & 0.467 & 129.9 & 20.8 &  8.3 & 79.6 & 70.7 & 75.9 & 0.438 &  73.8 & 69.9 &  0.0\\\\\n",
       "\t 14 & Corral        &   5.0 & 0.444 & 115.0 & 19.2 &  7.9 & 87.2 & 60.8 & 76.4 & 0.435 &  66.1 & 70.0 & 10.2\\\\\n",
       "\t 14 & Panguipulli   &  35.1 & 0.424 & 126.5 & 23.5 &  7.7 & 81.2 & 64.7 & 75.9 & 0.406 &  93.8 & 73.8 &  9.2\\\\\n",
       "\t 14 & Lago Ranco    &   9.5 & 0.418 & 134.9 & 21.3 &  7.9 & 86.3 & 49.0 & 73.2 & 0.372 & 111.9 & 73.1 &  6.0\\\\\n",
       "\t 15 & Arica         & 179.0 & 0.643 & 228.7 & 15.7 & 10.9 & 75.1 & 91.2 & 77.1 & 0.601 &  86.8 & 75.0 &  7.5\\\\\n",
       "\\end{tabular}\n"
      ],
      "text/markdown": [
       "\n",
       "A data.frame: 323 × 14\n",
       "\n",
       "| Regiï..n &lt;int&gt; | Comuna &lt;chr&gt; | Poblaciï..n..miles..2011 &lt;dbl&gt; | IDSE &lt;dbl&gt; | Ingreso.per.cï..p..Mens..miles....2006.11 &lt;dbl&gt; | Pobreza...2006.11 &lt;dbl&gt; | Escolaridad..aï..os..2006.11 &lt;dbl&gt; | Material.Vivienda.bueno.o.acceptable...2006 &lt;dbl&gt; | Alcantarillado.o.Fosa.S.pt....2006 &lt;dbl&gt; | Esperanza.vida.al.nacer..aï..os..2005.10 &lt;dbl&gt; | X.ndice.Desarrollo.Humano &lt;dbl&gt; | Tasa.AVPP.x.1000.h.2007.11 &lt;dbl&gt; | X..defunc..50..aï..os.2011 &lt;dbl&gt; | Mortalidad.Infantil.x.1000.NV.2009.11 &lt;dbl&gt; |\n",
       "|---|---|---|---|---|---|---|---|---|---|---|---|---|---|\n",
       "| 1 | Iquique              | 186.0 | 0.698 | 227.6 | 10.2 | 11.1 | 81.8 | 98.8 | 77.2 | 0.631 |  82.1 | 73.0 |  8.9 |\n",
       "| 1 | Pica                 |  18.6 | 0.604 | 188.1 | 12.2 |  9.6 | 71.0 | 94.0 | 77.5 | 0.572 |  23.0 | 45.8 |  9.8 |\n",
       "| 1 | Pozo Almonte         |  17.3 | 0.591 | 176.0 |  9.8 |  9.7 | 73.1 | 83.5 | 77.3 | 0.574 |  44.3 | 66.7 |  7.1 |\n",
       "| 1 | Alto Hospicio        |  93.8 | 0.577 | 166.3 | 20.9 | 10.1 | 65.9 | 98.4 | 78.1 | 0.555 |  46.7 | 56.2 |  4.9 |\n",
       "| 1 | Huara                |   3.4 | 0.382 | 161.4 | 10.0 |  7.6 | 49.0 | 38.9 | 81.8 | 0.592 |  55.8 | 44.4 |  8.9 |\n",
       "| 2 | Calama               | 148.8 | 0.717 | 269.3 |  8.5 | 10.9 | 85.0 | 98.9 | 76.2 | 0.625 |  87.2 | 63.4 |  9.7 |\n",
       "| 2 | Antofagasta          | 373.0 | 0.714 | 256.5 |  7.1 | 11.0 | 80.6 | 99.0 | 76.1 | 0.627 |  75.1 | 72.2 |  7.3 |\n",
       "| 2 | Marï¿½a Elena        |   3.7 | 0.698 | 218.9 |  6.1 | 10.9 | 77.6 | 98.1 | 72.0 | 0.536 |  74.6 | 66.7 |  0.0 |\n",
       "| 2 | Mejillones           |  11.1 | 0.697 | 228.8 |  5.8 | 10.1 | 88.6 | 99.1 | 74.9 | 0.571 |  59.1 | 65.8 |  2.1 |\n",
       "| 2 | Sierra Gorda         |   3.7 | 0.684 | 259.3 |  2.9 |  9.6 | 78.4 | 98.4 | 73.4 | 0.548 |  35.4 | 60.0 | 20.8 |\n",
       "| 2 | Taltal               |  10.6 | 0.675 | 322.7 |  6.5 |  9.8 | 73.9 | 95.8 | 73.4 | 0.552 |  85.0 | 80.9 |  7.6 |\n",
       "| 2 | Tocopilla            |  21.3 | 0.664 | 209.4 | 11.1 | 10.3 | 81.9 | 98.4 | 72.7 | 0.509 | 115.3 | 75.3 | 11.1 |\n",
       "| 2 | San Pedro de Atacama |   9.3 | 0.602 | 289.1 |  5.8 |  9.1 | 65.8 | 80.8 | 72.6 | 0.509 |  53.4 | 47.6 |  7.0 |\n",
       "| 3 | Diego de Almagro     |  11.7 | 0.700 | 319.8 |  7.3 | 10.6 | 81.0 | 91.7 | 76.1 | 0.627 |  83.9 | 81.7 |  8.3 |\n",
       "| 3 | Copiapï¿½            | 163.9 | 0.671 | 219.4 | 14.5 | 10.7 | 85.9 | 97.6 | 77.7 | 0.609 |  69.0 | 72.6 | 10.2 |\n",
       "| 3 | Caldera              |  15.2 | 0.643 | 220.5 | 14.3 | 10.2 | 76.5 | 98.8 | 78.3 | 0.606 |  67.9 | 71.0 |  9.5 |\n",
       "| 3 | Huasco               |   8.0 | 0.628 | 177.1 | 11.2 | 10.1 | 77.6 | 93.5 | 75.3 | 0.542 |  88.9 | 72.4 |  9.0 |\n",
       "| 3 | Vallenar             |  46.5 | 0.595 | 194.2 | 14.7 |  9.8 | 69.0 | 92.1 | 76.7 | 0.554 |  89.8 | 78.4 |  9.7 |\n",
       "| 3 | Chaï¿½aral           |  12.7 | 0.590 | 210.0 | 14.3 |  9.7 | 59.5 | 97.1 | 75.3 | 0.526 |  92.4 | 83.3 | 12.4 |\n",
       "| 3 | Tierra Amarilla      |  13.9 | 0.548 | 194.4 | 12.9 |  8.9 | 71.8 | 78.4 | 76.9 | 0.537 |  70.3 | 69.8 |  5.3 |\n",
       "| 3 | Freirina             |   5.9 | 0.546 | 170.3 | 10.4 |  9.1 | 70.0 | 75.5 | 75.6 | 0.518 |  77.1 | 92.9 |  7.1 |\n",
       "| 3 | Alto del Carmen      |   4.8 | 0.503 | 173.4 |  4.5 |  8.3 | 59.9 | 63.0 | 74.7 | 0.501 |  68.4 | 88.2 |  9.6 |\n",
       "| 4 | La Serena            | 214.7 | 0.669 | 194.3 | 14.5 | 10.6 | 90.7 | 97.9 | 78.7 | 0.619 |  62.8 | 77.7 |  7.9 |\n",
       "| 4 | Coquimbo             | 215.1 | 0.657 | 183.1 | 13.0 | 10.4 | 87.4 | 97.0 | 79.0 | 0.620 |  59.2 | 76.3 |  7.8 |\n",
       "| 4 | Paiguano             |   4.5 | 0.584 | 142.4 |  7.0 |  8.8 | 86.5 | 83.3 | 77.4 | 0.547 |  53.8 | 75.9 |  5.1 |\n",
       "| 4 | Illapel              |  31.4 | 0.575 | 164.7 | 11.3 |  9.2 | 85.4 | 78.1 | 78.4 | 0.570 |  72.1 | 80.2 |  9.7 |\n",
       "| 4 | Vicuï¿½a             |  26.6 | 0.568 | 162.7 | 17.2 |  9.3 | 79.0 | 90.1 | 79.3 | 0.567 |  60.7 | 77.2 |  4.0 |\n",
       "| 4 | Andacollo            |   8.5 | 0.557 | 170.8 | 20.7 |  9.0 | 85.3 | 88.8 | 75.3 | 0.467 |  96.3 | 82.9 | 10.7 |\n",
       "| 4 | Salamanca            |  25.7 | 0.524 | 154.6 | 16.2 |  8.9 | 78.7 | 76.1 | 78.4 | 0.535 |  70.9 | 75.7 |  6.0 |\n",
       "| 4 | Ovalle               | 112.1 | 0.519 | 134.1 | 23.7 |  9.4 | 75.2 | 87.2 | 78.5 | 0.514 |  69.2 | 77.5 |  5.4 |\n",
       "| ... | ... | ... | ... | ... | ... | ... | ... | ... | ... | ... | ... | ... | ... |\n",
       "| 13 | San Bernardo  | 311.0 | 0.605 | 154.7 | 18.4 |  9.9 | 83.3 | 99.1 | 76.7 | 0.525 |  69.7 | 72.7 |  9.0 |\n",
       "| 13 | Lo Espejo     |  99.1 | 0.602 | 151.3 | 19.5 |  9.9 | 87.1 | 97.6 | 75.4 | 0.494 |  99.9 | 75.4 |  8.8 |\n",
       "| 13 | Renca         | 130.8 | 0.596 | 152.2 | 19.6 | 10.0 | 83.1 | 96.3 | 76.4 | 0.516 |  86.4 | 69.7 |  6.8 |\n",
       "| 13 | Isla de Maipo |  31.8 | 0.593 | 150.1 | 11.0 |  9.3 | 84.1 | 88.2 | 76.9 | 0.540 |  71.2 | 76.0 |  8.2 |\n",
       "| 13 | La Granja     | 123.4 | 0.592 | 149.8 | 17.8 |  9.9 | 80.9 | 94.0 | 76.7 | 0.528 |  83.8 | 77.2 |  8.1 |\n",
       "| 13 | Paine         |  65.4 | 0.590 | 165.1 | 11.2 |  9.4 | 81.5 | 85.0 | 78.4 | 0.578 |  58.2 | 72.7 |  6.9 |\n",
       "| 13 | Melipilla     | 107.2 | 0.589 | 166.7 | 11.2 |  9.7 | 75.8 | 84.3 | 76.9 | 0.558 |  81.3 | 74.4 |  7.4 |\n",
       "| 13 | El Monte      |  31.3 | 0.583 | 172.7 | 16.0 |  9.8 | 77.8 | 86.9 | 77.7 | 0.559 |  61.8 | 79.4 |  7.1 |\n",
       "| 13 | Tiltil        |  16.4 | 0.579 | 163.8 |  9.9 |  9.3 | 76.8 | 82.5 | 76.3 | 0.539 |  72.5 | 66.7 | 12.3 |\n",
       "| 13 | San Ramï¿½n   |  84.0 | 0.575 | 157.0 | 19.1 |  9.6 | 79.1 | 93.3 | 76.3 | 0.506 |  98.1 | 78.3 |  6.8 |\n",
       "| 13 | Cerro Navia   | 133.9 | 0.562 | 141.3 | 16.8 |  9.1 | 77.2 | 95.7 | 75.8 | 0.482 |  97.2 | 75.0 |  7.8 |\n",
       "| 13 | La Pintana    | 202.6 | 0.561 | 135.8 | 20.1 |  8.9 | 90.2 | 94.4 | 77.2 | 0.490 |  79.4 | 63.4 |  6.6 |\n",
       "| 13 | Lampa         |  64.8 | 0.550 | 140.2 | 18.2 |  9.1 | 84.4 | 87.2 | 77.3 | 0.505 |  65.9 | 67.9 |  3.8 |\n",
       "| 13 | Alhu?         |   4.6 | 0.546 | 175.1 |  9.2 |  8.6 | 78.8 | 72.4 | 75.7 | 0.511 |  69.1 | 84.2 |  0.0 |\n",
       "| 13 | Marï¿½a Pinto |  11.8 | 0.542 | 140.3 |  9.3 |  8.4 | 82.7 | 78.0 | 76.6 | 0.507 |  69.0 | 75.3 |  8.7 |\n",
       "| 13 | San Pedro     |   8.1 | 0.484 | 141.3 |  5.9 |  7.8 | 81.6 | 54.3 | 77.6 | 0.522 |  69.3 | 74.0 |  6.5 |\n",
       "| 14 | Valdivia      | 161.7 | 0.652 | 202.7 | 17.1 | 10.6 | 88.7 | 95.3 | 76.8 | 0.573 |  78.9 | 75.5 |  6.9 |\n",
       "| 14 | Los Lagos     |  21.7 | 0.549 | 149.8 | 15.7 |  8.4 | 91.8 | 84.5 | 76.7 | 0.486 |  72.5 | 77.3 |  7.1 |\n",
       "| 14 | Mï¿½fil       |   7.0 | 0.534 | 158.6 | 16.5 |  8.7 | 88.7 | 75.2 | 71.9 | 0.401 |  99.8 | 79.3 |  7.9 |\n",
       "| 14 | Paillaco      |  19.9 | 0.523 | 139.1 | 19.3 |  8.6 | 92.4 | 78.4 | 75.1 | 0.442 | 100.7 | 80.1 | 10.2 |\n",
       "| 14 | Linares       |  91.1 | 0.514 | 145.5 | 23.8 |  9.2 | 74.6 | 85.9 | 76.6 | 0.476 |  87.3 | 77.2 |  8.7 |\n",
       "| 14 | Lanco         |  16.6 | 0.513 | 137.3 | 20.5 |  8.7 | 91.3 | 75.3 | 74.9 | 0.436 |  90.7 | 72.5 |  5.4 |\n",
       "| 14 | Rï¿½o Bueno   |  31.3 | 0.510 | 146.1 | 21.2 |  8.1 | 94.9 | 79.3 | 75.4 | 0.428 |  96.5 | 76.4 |  6.1 |\n",
       "| 14 | La Uniï¿½n    |  38.8 | 0.499 | 156.5 | 19.6 |  8.9 | 77.4 | 70.7 | 75.9 | 0.475 |  91.9 | 78.6 |  7.4 |\n",
       "| 14 | Mariquina     |  18.4 | 0.488 | 152.4 | 20.2 |  8.4 | 87.2 | 66.5 | 74.9 | 0.437 |  98.2 | 77.9 | 13.7 |\n",
       "| 14 | Futrono       |  15.8 | 0.467 | 129.9 | 20.8 |  8.3 | 79.6 | 70.7 | 75.9 | 0.438 |  73.8 | 69.9 |  0.0 |\n",
       "| 14 | Corral        |   5.0 | 0.444 | 115.0 | 19.2 |  7.9 | 87.2 | 60.8 | 76.4 | 0.435 |  66.1 | 70.0 | 10.2 |\n",
       "| 14 | Panguipulli   |  35.1 | 0.424 | 126.5 | 23.5 |  7.7 | 81.2 | 64.7 | 75.9 | 0.406 |  93.8 | 73.8 |  9.2 |\n",
       "| 14 | Lago Ranco    |   9.5 | 0.418 | 134.9 | 21.3 |  7.9 | 86.3 | 49.0 | 73.2 | 0.372 | 111.9 | 73.1 |  6.0 |\n",
       "| 15 | Arica         | 179.0 | 0.643 | 228.7 | 15.7 | 10.9 | 75.1 | 91.2 | 77.1 | 0.601 |  86.8 | 75.0 |  7.5 |\n",
       "\n"
      ],
      "text/plain": [
       "    Regiï..n Comuna               Poblaciï..n..miles..2011 IDSE \n",
       "1   1        Iquique              186.0                    0.698\n",
       "2   1        Pica                  18.6                    0.604\n",
       "3   1        Pozo Almonte          17.3                    0.591\n",
       "4   1        Alto Hospicio         93.8                    0.577\n",
       "5   1        Huara                  3.4                    0.382\n",
       "6   2        Calama               148.8                    0.717\n",
       "7   2        Antofagasta          373.0                    0.714\n",
       "8   2        Marï¿½a Elena          3.7                    0.698\n",
       "9   2        Mejillones            11.1                    0.697\n",
       "10  2        Sierra Gorda           3.7                    0.684\n",
       "11  2        Taltal                10.6                    0.675\n",
       "12  2        Tocopilla             21.3                    0.664\n",
       "13  2        San Pedro de Atacama   9.3                    0.602\n",
       "14  3        Diego de Almagro      11.7                    0.700\n",
       "15  3        Copiapï¿½            163.9                    0.671\n",
       "16  3        Caldera               15.2                    0.643\n",
       "17  3        Huasco                 8.0                    0.628\n",
       "18  3        Vallenar              46.5                    0.595\n",
       "19  3        Chaï¿½aral            12.7                    0.590\n",
       "20  3        Tierra Amarilla       13.9                    0.548\n",
       "21  3        Freirina               5.9                    0.546\n",
       "22  3        Alto del Carmen        4.8                    0.503\n",
       "23  4        La Serena            214.7                    0.669\n",
       "24  4        Coquimbo             215.1                    0.657\n",
       "25  4        Paiguano               4.5                    0.584\n",
       "26  4        Illapel               31.4                    0.575\n",
       "27  4        Vicuï¿½a              26.6                    0.568\n",
       "28  4        Andacollo              8.5                    0.557\n",
       "29  4        Salamanca             25.7                    0.524\n",
       "30  4        Ovalle               112.1                    0.519\n",
       "... ...      ...                  ...                      ...  \n",
       "294 13       San Bernardo         311.0                    0.605\n",
       "295 13       Lo Espejo             99.1                    0.602\n",
       "296 13       Renca                130.8                    0.596\n",
       "297 13       Isla de Maipo         31.8                    0.593\n",
       "298 13       La Granja            123.4                    0.592\n",
       "299 13       Paine                 65.4                    0.590\n",
       "300 13       Melipilla            107.2                    0.589\n",
       "301 13       El Monte              31.3                    0.583\n",
       "302 13       Tiltil                16.4                    0.579\n",
       "303 13       San Ramï¿½n           84.0                    0.575\n",
       "304 13       Cerro Navia          133.9                    0.562\n",
       "305 13       La Pintana           202.6                    0.561\n",
       "306 13       Lampa                 64.8                    0.550\n",
       "307 13       Alhu?                  4.6                    0.546\n",
       "308 13       Marï¿½a Pinto         11.8                    0.542\n",
       "309 13       San Pedro              8.1                    0.484\n",
       "310 14       Valdivia             161.7                    0.652\n",
       "311 14       Los Lagos             21.7                    0.549\n",
       "312 14       Mï¿½fil                7.0                    0.534\n",
       "313 14       Paillaco              19.9                    0.523\n",
       "314 14       Linares               91.1                    0.514\n",
       "315 14       Lanco                 16.6                    0.513\n",
       "316 14       Rï¿½o Bueno           31.3                    0.510\n",
       "317 14       La Uniï¿½n            38.8                    0.499\n",
       "318 14       Mariquina             18.4                    0.488\n",
       "319 14       Futrono               15.8                    0.467\n",
       "320 14       Corral                 5.0                    0.444\n",
       "321 14       Panguipulli           35.1                    0.424\n",
       "322 14       Lago Ranco             9.5                    0.418\n",
       "323 15       Arica                179.0                    0.643\n",
       "    Ingreso.per.cï..p..Mens..miles....2006.11 Pobreza...2006.11\n",
       "1   227.6                                     10.2             \n",
       "2   188.1                                     12.2             \n",
       "3   176.0                                      9.8             \n",
       "4   166.3                                     20.9             \n",
       "5   161.4                                     10.0             \n",
       "6   269.3                                      8.5             \n",
       "7   256.5                                      7.1             \n",
       "8   218.9                                      6.1             \n",
       "9   228.8                                      5.8             \n",
       "10  259.3                                      2.9             \n",
       "11  322.7                                      6.5             \n",
       "12  209.4                                     11.1             \n",
       "13  289.1                                      5.8             \n",
       "14  319.8                                      7.3             \n",
       "15  219.4                                     14.5             \n",
       "16  220.5                                     14.3             \n",
       "17  177.1                                     11.2             \n",
       "18  194.2                                     14.7             \n",
       "19  210.0                                     14.3             \n",
       "20  194.4                                     12.9             \n",
       "21  170.3                                     10.4             \n",
       "22  173.4                                      4.5             \n",
       "23  194.3                                     14.5             \n",
       "24  183.1                                     13.0             \n",
       "25  142.4                                      7.0             \n",
       "26  164.7                                     11.3             \n",
       "27  162.7                                     17.2             \n",
       "28  170.8                                     20.7             \n",
       "29  154.6                                     16.2             \n",
       "30  134.1                                     23.7             \n",
       "... ...                                       ...              \n",
       "294 154.7                                     18.4             \n",
       "295 151.3                                     19.5             \n",
       "296 152.2                                     19.6             \n",
       "297 150.1                                     11.0             \n",
       "298 149.8                                     17.8             \n",
       "299 165.1                                     11.2             \n",
       "300 166.7                                     11.2             \n",
       "301 172.7                                     16.0             \n",
       "302 163.8                                      9.9             \n",
       "303 157.0                                     19.1             \n",
       "304 141.3                                     16.8             \n",
       "305 135.8                                     20.1             \n",
       "306 140.2                                     18.2             \n",
       "307 175.1                                      9.2             \n",
       "308 140.3                                      9.3             \n",
       "309 141.3                                      5.9             \n",
       "310 202.7                                     17.1             \n",
       "311 149.8                                     15.7             \n",
       "312 158.6                                     16.5             \n",
       "313 139.1                                     19.3             \n",
       "314 145.5                                     23.8             \n",
       "315 137.3                                     20.5             \n",
       "316 146.1                                     21.2             \n",
       "317 156.5                                     19.6             \n",
       "318 152.4                                     20.2             \n",
       "319 129.9                                     20.8             \n",
       "320 115.0                                     19.2             \n",
       "321 126.5                                     23.5             \n",
       "322 134.9                                     21.3             \n",
       "323 228.7                                     15.7             \n",
       "    Escolaridad..aï..os..2006.11 Material.Vivienda.bueno.o.acceptable...2006\n",
       "1   11.1                         81.8                                       \n",
       "2    9.6                         71.0                                       \n",
       "3    9.7                         73.1                                       \n",
       "4   10.1                         65.9                                       \n",
       "5    7.6                         49.0                                       \n",
       "6   10.9                         85.0                                       \n",
       "7   11.0                         80.6                                       \n",
       "8   10.9                         77.6                                       \n",
       "9   10.1                         88.6                                       \n",
       "10   9.6                         78.4                                       \n",
       "11   9.8                         73.9                                       \n",
       "12  10.3                         81.9                                       \n",
       "13   9.1                         65.8                                       \n",
       "14  10.6                         81.0                                       \n",
       "15  10.7                         85.9                                       \n",
       "16  10.2                         76.5                                       \n",
       "17  10.1                         77.6                                       \n",
       "18   9.8                         69.0                                       \n",
       "19   9.7                         59.5                                       \n",
       "20   8.9                         71.8                                       \n",
       "21   9.1                         70.0                                       \n",
       "22   8.3                         59.9                                       \n",
       "23  10.6                         90.7                                       \n",
       "24  10.4                         87.4                                       \n",
       "25   8.8                         86.5                                       \n",
       "26   9.2                         85.4                                       \n",
       "27   9.3                         79.0                                       \n",
       "28   9.0                         85.3                                       \n",
       "29   8.9                         78.7                                       \n",
       "30   9.4                         75.2                                       \n",
       "... ...                          ...                                        \n",
       "294  9.9                         83.3                                       \n",
       "295  9.9                         87.1                                       \n",
       "296 10.0                         83.1                                       \n",
       "297  9.3                         84.1                                       \n",
       "298  9.9                         80.9                                       \n",
       "299  9.4                         81.5                                       \n",
       "300  9.7                         75.8                                       \n",
       "301  9.8                         77.8                                       \n",
       "302  9.3                         76.8                                       \n",
       "303  9.6                         79.1                                       \n",
       "304  9.1                         77.2                                       \n",
       "305  8.9                         90.2                                       \n",
       "306  9.1                         84.4                                       \n",
       "307  8.6                         78.8                                       \n",
       "308  8.4                         82.7                                       \n",
       "309  7.8                         81.6                                       \n",
       "310 10.6                         88.7                                       \n",
       "311  8.4                         91.8                                       \n",
       "312  8.7                         88.7                                       \n",
       "313  8.6                         92.4                                       \n",
       "314  9.2                         74.6                                       \n",
       "315  8.7                         91.3                                       \n",
       "316  8.1                         94.9                                       \n",
       "317  8.9                         77.4                                       \n",
       "318  8.4                         87.2                                       \n",
       "319  8.3                         79.6                                       \n",
       "320  7.9                         87.2                                       \n",
       "321  7.7                         81.2                                       \n",
       "322  7.9                         86.3                                       \n",
       "323 10.9                         75.1                                       \n",
       "    Alcantarillado.o.Fosa.S.pt....2006 Esperanza.vida.al.nacer..aï..os..2005.10\n",
       "1   98.8                               77.2                                    \n",
       "2   94.0                               77.5                                    \n",
       "3   83.5                               77.3                                    \n",
       "4   98.4                               78.1                                    \n",
       "5   38.9                               81.8                                    \n",
       "6   98.9                               76.2                                    \n",
       "7   99.0                               76.1                                    \n",
       "8   98.1                               72.0                                    \n",
       "9   99.1                               74.9                                    \n",
       "10  98.4                               73.4                                    \n",
       "11  95.8                               73.4                                    \n",
       "12  98.4                               72.7                                    \n",
       "13  80.8                               72.6                                    \n",
       "14  91.7                               76.1                                    \n",
       "15  97.6                               77.7                                    \n",
       "16  98.8                               78.3                                    \n",
       "17  93.5                               75.3                                    \n",
       "18  92.1                               76.7                                    \n",
       "19  97.1                               75.3                                    \n",
       "20  78.4                               76.9                                    \n",
       "21  75.5                               75.6                                    \n",
       "22  63.0                               74.7                                    \n",
       "23  97.9                               78.7                                    \n",
       "24  97.0                               79.0                                    \n",
       "25  83.3                               77.4                                    \n",
       "26  78.1                               78.4                                    \n",
       "27  90.1                               79.3                                    \n",
       "28  88.8                               75.3                                    \n",
       "29  76.1                               78.4                                    \n",
       "30  87.2                               78.5                                    \n",
       "... ...                                ...                                     \n",
       "294 99.1                               76.7                                    \n",
       "295 97.6                               75.4                                    \n",
       "296 96.3                               76.4                                    \n",
       "297 88.2                               76.9                                    \n",
       "298 94.0                               76.7                                    \n",
       "299 85.0                               78.4                                    \n",
       "300 84.3                               76.9                                    \n",
       "301 86.9                               77.7                                    \n",
       "302 82.5                               76.3                                    \n",
       "303 93.3                               76.3                                    \n",
       "304 95.7                               75.8                                    \n",
       "305 94.4                               77.2                                    \n",
       "306 87.2                               77.3                                    \n",
       "307 72.4                               75.7                                    \n",
       "308 78.0                               76.6                                    \n",
       "309 54.3                               77.6                                    \n",
       "310 95.3                               76.8                                    \n",
       "311 84.5                               76.7                                    \n",
       "312 75.2                               71.9                                    \n",
       "313 78.4                               75.1                                    \n",
       "314 85.9                               76.6                                    \n",
       "315 75.3                               74.9                                    \n",
       "316 79.3                               75.4                                    \n",
       "317 70.7                               75.9                                    \n",
       "318 66.5                               74.9                                    \n",
       "319 70.7                               75.9                                    \n",
       "320 60.8                               76.4                                    \n",
       "321 64.7                               75.9                                    \n",
       "322 49.0                               73.2                                    \n",
       "323 91.2                               77.1                                    \n",
       "    X.ndice.Desarrollo.Humano Tasa.AVPP.x.1000.h.2007.11\n",
       "1   0.631                      82.1                     \n",
       "2   0.572                      23.0                     \n",
       "3   0.574                      44.3                     \n",
       "4   0.555                      46.7                     \n",
       "5   0.592                      55.8                     \n",
       "6   0.625                      87.2                     \n",
       "7   0.627                      75.1                     \n",
       "8   0.536                      74.6                     \n",
       "9   0.571                      59.1                     \n",
       "10  0.548                      35.4                     \n",
       "11  0.552                      85.0                     \n",
       "12  0.509                     115.3                     \n",
       "13  0.509                      53.4                     \n",
       "14  0.627                      83.9                     \n",
       "15  0.609                      69.0                     \n",
       "16  0.606                      67.9                     \n",
       "17  0.542                      88.9                     \n",
       "18  0.554                      89.8                     \n",
       "19  0.526                      92.4                     \n",
       "20  0.537                      70.3                     \n",
       "21  0.518                      77.1                     \n",
       "22  0.501                      68.4                     \n",
       "23  0.619                      62.8                     \n",
       "24  0.620                      59.2                     \n",
       "25  0.547                      53.8                     \n",
       "26  0.570                      72.1                     \n",
       "27  0.567                      60.7                     \n",
       "28  0.467                      96.3                     \n",
       "29  0.535                      70.9                     \n",
       "30  0.514                      69.2                     \n",
       "... ...                       ...                       \n",
       "294 0.525                      69.7                     \n",
       "295 0.494                      99.9                     \n",
       "296 0.516                      86.4                     \n",
       "297 0.540                      71.2                     \n",
       "298 0.528                      83.8                     \n",
       "299 0.578                      58.2                     \n",
       "300 0.558                      81.3                     \n",
       "301 0.559                      61.8                     \n",
       "302 0.539                      72.5                     \n",
       "303 0.506                      98.1                     \n",
       "304 0.482                      97.2                     \n",
       "305 0.490                      79.4                     \n",
       "306 0.505                      65.9                     \n",
       "307 0.511                      69.1                     \n",
       "308 0.507                      69.0                     \n",
       "309 0.522                      69.3                     \n",
       "310 0.573                      78.9                     \n",
       "311 0.486                      72.5                     \n",
       "312 0.401                      99.8                     \n",
       "313 0.442                     100.7                     \n",
       "314 0.476                      87.3                     \n",
       "315 0.436                      90.7                     \n",
       "316 0.428                      96.5                     \n",
       "317 0.475                      91.9                     \n",
       "318 0.437                      98.2                     \n",
       "319 0.438                      73.8                     \n",
       "320 0.435                      66.1                     \n",
       "321 0.406                      93.8                     \n",
       "322 0.372                     111.9                     \n",
       "323 0.601                      86.8                     \n",
       "    X..defunc..50..aï..os.2011 Mortalidad.Infantil.x.1000.NV.2009.11\n",
       "1   73.0                        8.9                                 \n",
       "2   45.8                        9.8                                 \n",
       "3   66.7                        7.1                                 \n",
       "4   56.2                        4.9                                 \n",
       "5   44.4                        8.9                                 \n",
       "6   63.4                        9.7                                 \n",
       "7   72.2                        7.3                                 \n",
       "8   66.7                        0.0                                 \n",
       "9   65.8                        2.1                                 \n",
       "10  60.0                       20.8                                 \n",
       "11  80.9                        7.6                                 \n",
       "12  75.3                       11.1                                 \n",
       "13  47.6                        7.0                                 \n",
       "14  81.7                        8.3                                 \n",
       "15  72.6                       10.2                                 \n",
       "16  71.0                        9.5                                 \n",
       "17  72.4                        9.0                                 \n",
       "18  78.4                        9.7                                 \n",
       "19  83.3                       12.4                                 \n",
       "20  69.8                        5.3                                 \n",
       "21  92.9                        7.1                                 \n",
       "22  88.2                        9.6                                 \n",
       "23  77.7                        7.9                                 \n",
       "24  76.3                        7.8                                 \n",
       "25  75.9                        5.1                                 \n",
       "26  80.2                        9.7                                 \n",
       "27  77.2                        4.0                                 \n",
       "28  82.9                       10.7                                 \n",
       "29  75.7                        6.0                                 \n",
       "30  77.5                        5.4                                 \n",
       "... ...                        ...                                  \n",
       "294 72.7                        9.0                                 \n",
       "295 75.4                        8.8                                 \n",
       "296 69.7                        6.8                                 \n",
       "297 76.0                        8.2                                 \n",
       "298 77.2                        8.1                                 \n",
       "299 72.7                        6.9                                 \n",
       "300 74.4                        7.4                                 \n",
       "301 79.4                        7.1                                 \n",
       "302 66.7                       12.3                                 \n",
       "303 78.3                        6.8                                 \n",
       "304 75.0                        7.8                                 \n",
       "305 63.4                        6.6                                 \n",
       "306 67.9                        3.8                                 \n",
       "307 84.2                        0.0                                 \n",
       "308 75.3                        8.7                                 \n",
       "309 74.0                        6.5                                 \n",
       "310 75.5                        6.9                                 \n",
       "311 77.3                        7.1                                 \n",
       "312 79.3                        7.9                                 \n",
       "313 80.1                       10.2                                 \n",
       "314 77.2                        8.7                                 \n",
       "315 72.5                        5.4                                 \n",
       "316 76.4                        6.1                                 \n",
       "317 78.6                        7.4                                 \n",
       "318 77.9                       13.7                                 \n",
       "319 69.9                        0.0                                 \n",
       "320 70.0                       10.2                                 \n",
       "321 73.8                        9.2                                 \n",
       "322 73.1                        6.0                                 \n",
       "323 75.0                        7.5                                 "
      ]
     },
     "metadata": {},
     "output_type": "display_data"
    }
   ],
   "source": [
    "datos"
   ]
  },
  {
   "cell_type": "code",
   "execution_count": 15,
   "metadata": {
    "scrolled": false
   },
   "outputs": [
    {
     "data": {
      "text/html": [
       "<style>\n",
       ".list-inline {list-style: none; margin:0; padding: 0}\n",
       ".list-inline>li {display: inline-block}\n",
       ".list-inline>li:not(:last-child)::after {content: \"\\00b7\"; padding: 0 .5ex}\n",
       "</style>\n",
       "<ol class=list-inline><li>323</li><li>14</li></ol>\n"
      ],
      "text/latex": [
       "\\begin{enumerate*}\n",
       "\\item 323\n",
       "\\item 14\n",
       "\\end{enumerate*}\n"
      ],
      "text/markdown": [
       "1. 323\n",
       "2. 14\n",
       "\n",
       "\n"
      ],
      "text/plain": [
       "[1] 323  14"
      ]
     },
     "metadata": {},
     "output_type": "display_data"
    },
    {
     "data": {
      "text/html": [
       "<table>\n",
       "<caption>A matrix: 6 × 12 of type dbl</caption>\n",
       "<tbody>\n",
       "\t<tr><th scope=row>[318,]</th><td> 18.4</td><td>0.488</td><td>152.4</td><td>20.2</td><td> 8.4</td><td>87.2</td><td>66.5</td><td>74.9</td><td>0.437</td><td> 98.2</td><td>77.9</td><td>13.7</td></tr>\n",
       "\t<tr><th scope=row>[319,]</th><td> 15.8</td><td>0.467</td><td>129.9</td><td>20.8</td><td> 8.3</td><td>79.6</td><td>70.7</td><td>75.9</td><td>0.438</td><td> 73.8</td><td>69.9</td><td> 0.0</td></tr>\n",
       "\t<tr><th scope=row>[320,]</th><td>  5.0</td><td>0.444</td><td>115.0</td><td>19.2</td><td> 7.9</td><td>87.2</td><td>60.8</td><td>76.4</td><td>0.435</td><td> 66.1</td><td>70.0</td><td>10.2</td></tr>\n",
       "\t<tr><th scope=row>[321,]</th><td> 35.1</td><td>0.424</td><td>126.5</td><td>23.5</td><td> 7.7</td><td>81.2</td><td>64.7</td><td>75.9</td><td>0.406</td><td> 93.8</td><td>73.8</td><td> 9.2</td></tr>\n",
       "\t<tr><th scope=row>[322,]</th><td>  9.5</td><td>0.418</td><td>134.9</td><td>21.3</td><td> 7.9</td><td>86.3</td><td>49.0</td><td>73.2</td><td>0.372</td><td>111.9</td><td>73.1</td><td> 6.0</td></tr>\n",
       "\t<tr><th scope=row>[323,]</th><td>179.0</td><td>0.643</td><td>228.7</td><td>15.7</td><td>10.9</td><td>75.1</td><td>91.2</td><td>77.1</td><td>0.601</td><td> 86.8</td><td>75.0</td><td> 7.5</td></tr>\n",
       "</tbody>\n",
       "</table>\n"
      ],
      "text/latex": [
       "A matrix: 6 × 12 of type dbl\n",
       "\\begin{tabular}{r|llllllllllll}\n",
       "\t{[}318,{]} &  18.4 & 0.488 & 152.4 & 20.2 &  8.4 & 87.2 & 66.5 & 74.9 & 0.437 &  98.2 & 77.9 & 13.7\\\\\n",
       "\t{[}319,{]} &  15.8 & 0.467 & 129.9 & 20.8 &  8.3 & 79.6 & 70.7 & 75.9 & 0.438 &  73.8 & 69.9 &  0.0\\\\\n",
       "\t{[}320,{]} &   5.0 & 0.444 & 115.0 & 19.2 &  7.9 & 87.2 & 60.8 & 76.4 & 0.435 &  66.1 & 70.0 & 10.2\\\\\n",
       "\t{[}321,{]} &  35.1 & 0.424 & 126.5 & 23.5 &  7.7 & 81.2 & 64.7 & 75.9 & 0.406 &  93.8 & 73.8 &  9.2\\\\\n",
       "\t{[}322,{]} &   9.5 & 0.418 & 134.9 & 21.3 &  7.9 & 86.3 & 49.0 & 73.2 & 0.372 & 111.9 & 73.1 &  6.0\\\\\n",
       "\t{[}323,{]} & 179.0 & 0.643 & 228.7 & 15.7 & 10.9 & 75.1 & 91.2 & 77.1 & 0.601 &  86.8 & 75.0 &  7.5\\\\\n",
       "\\end{tabular}\n"
      ],
      "text/markdown": [
       "\n",
       "A matrix: 6 × 12 of type dbl\n",
       "\n",
       "| [318,] |  18.4 | 0.488 | 152.4 | 20.2 |  8.4 | 87.2 | 66.5 | 74.9 | 0.437 |  98.2 | 77.9 | 13.7 |\n",
       "| [319,] |  15.8 | 0.467 | 129.9 | 20.8 |  8.3 | 79.6 | 70.7 | 75.9 | 0.438 |  73.8 | 69.9 |  0.0 |\n",
       "| [320,] |   5.0 | 0.444 | 115.0 | 19.2 |  7.9 | 87.2 | 60.8 | 76.4 | 0.435 |  66.1 | 70.0 | 10.2 |\n",
       "| [321,] |  35.1 | 0.424 | 126.5 | 23.5 |  7.7 | 81.2 | 64.7 | 75.9 | 0.406 |  93.8 | 73.8 |  9.2 |\n",
       "| [322,] |   9.5 | 0.418 | 134.9 | 21.3 |  7.9 | 86.3 | 49.0 | 73.2 | 0.372 | 111.9 | 73.1 |  6.0 |\n",
       "| [323,] | 179.0 | 0.643 | 228.7 | 15.7 | 10.9 | 75.1 | 91.2 | 77.1 | 0.601 |  86.8 | 75.0 |  7.5 |\n",
       "\n"
      ],
      "text/plain": [
       "       [,1]  [,2]  [,3]  [,4] [,5] [,6] [,7] [,8] [,9]  [,10] [,11] [,12]\n",
       "[318,]  18.4 0.488 152.4 20.2  8.4 87.2 66.5 74.9 0.437  98.2 77.9  13.7 \n",
       "[319,]  15.8 0.467 129.9 20.8  8.3 79.6 70.7 75.9 0.438  73.8 69.9   0.0 \n",
       "[320,]   5.0 0.444 115.0 19.2  7.9 87.2 60.8 76.4 0.435  66.1 70.0  10.2 \n",
       "[321,]  35.1 0.424 126.5 23.5  7.7 81.2 64.7 75.9 0.406  93.8 73.8   9.2 \n",
       "[322,]   9.5 0.418 134.9 21.3  7.9 86.3 49.0 73.2 0.372 111.9 73.1   6.0 \n",
       "[323,] 179.0 0.643 228.7 15.7 10.9 75.1 91.2 77.1 0.601  86.8 75.0   7.5 "
      ]
     },
     "metadata": {},
     "output_type": "display_data"
    }
   ],
   "source": [
    "dim(datos)\n",
    "datos1 <- as.matrix(datos[1:323,3:14])\n",
    "row.names(datos1) = datos[,1]\n",
    "datos2 <- matrix(as.numeric(datos1),ncol=12,nrow=323,byrow=FALSE)\n",
    "tail(datos2)"
   ]
  },
  {
   "cell_type": "markdown",
   "metadata": {},
   "source": [
    "## **Descripción de los datos y porque realizar un análisis de agrupamiento**\n"
   ]
  },
  {
   "cell_type": "markdown",
   "metadata": {},
   "source": [
    "Esta tabla contiene los datos asociados a las caracteristicas socio-economicas y de salud que presentan 323 comunas de Chile, de las cuales consideraremos 12 caracteristicas: **Porcentaje de pobreza, Porcentaje de material de vivienda bueno o malo, Porcentaje de alcantarillado o fosa séptica , Porcentaje de defunción para personas mayores a 50 años, Población en miles de habitantes, Ingreso Mensual por persona(miles $), Tasa de AVVP x1000 horas, Mortalidad infantil X1000 NV, IDSE, Escolaridad, Índice de desarrollo Humano, Esperanza de vida al nacer**.\n",
    "\n",
    "Debido a la cantidad de variables involucradas, se puede plantear la posibilidad de realizar un agrupamiento general de los datos, lo que entregaría una correlación de variables dificilmente observarble en un espacio bidimensional, pero que separada de a pares permitiría visualizar las diferencias o superposiciones propias de los grupos.\n",
    "\n",
    "Por otra parte, realizar múltiples agrupaciones de las variables, que pertenezcan a escalas similares (valor en miles, porcentajes e índices) facilita enormemente su representación pero necesariamente excluye información importante como lo es la cantidad de habitantes para los índices o el porcentaje de pobreza si se está agrupando por escolaridad.\n",
    "\n",
    "A continuación y con el motivo de segregar de mejor manera la información, se optará por el segundo método, permitiendo el análisis particular de ciertas variables sociales."
   ]
  },
  {
   "cell_type": "markdown",
   "metadata": {},
   "source": [
    "#### **Respuesta 2.2**\n",
    "\n",
    "**Conjunto 1** \n",
    "* Porcentaje de pobreza\n",
    "* Porcentaje de material de vivienda bueno o malo\n",
    "* Porcentaje de alcantarillado o fosa séptica\n",
    "* Porcentaje de defuncion para personas mayores a 50 años)"
   ]
  },
  {
   "cell_type": "code",
   "execution_count": 16,
   "metadata": {},
   "outputs": [
    {
     "data": {
      "text/html": [
       "<table>\n",
       "<caption>A matrix: 6 × 4 of type dbl</caption>\n",
       "<thead>\n",
       "\t<tr><th></th><th scope=col>Pobreza</th><th scope=col>Material</th><th scope=col>Alcantarillado</th><th scope=col>Defuncion</th></tr>\n",
       "</thead>\n",
       "<tbody>\n",
       "\t<tr><th scope=row>Iquique</th><td>10.2</td><td>81.8</td><td>98.8</td><td>73.0</td></tr>\n",
       "\t<tr><th scope=row>Pica</th><td>12.2</td><td>71.0</td><td>94.0</td><td>45.8</td></tr>\n",
       "\t<tr><th scope=row>Pozo Almonte</th><td> 9.8</td><td>73.1</td><td>83.5</td><td>66.7</td></tr>\n",
       "\t<tr><th scope=row>Alto Hospicio</th><td>20.9</td><td>65.9</td><td>98.4</td><td>56.2</td></tr>\n",
       "\t<tr><th scope=row>Huara</th><td>10.0</td><td>49.0</td><td>38.9</td><td>44.4</td></tr>\n",
       "\t<tr><th scope=row>Calama</th><td> 8.5</td><td>85.0</td><td>98.9</td><td>63.4</td></tr>\n",
       "</tbody>\n",
       "</table>\n"
      ],
      "text/latex": [
       "A matrix: 6 × 4 of type dbl\n",
       "\\begin{tabular}{r|llll}\n",
       "  & Pobreza & Material & Alcantarillado & Defuncion\\\\\n",
       "\\hline\n",
       "\tIquique & 10.2 & 81.8 & 98.8 & 73.0\\\\\n",
       "\tPica & 12.2 & 71.0 & 94.0 & 45.8\\\\\n",
       "\tPozo Almonte &  9.8 & 73.1 & 83.5 & 66.7\\\\\n",
       "\tAlto Hospicio & 20.9 & 65.9 & 98.4 & 56.2\\\\\n",
       "\tHuara & 10.0 & 49.0 & 38.9 & 44.4\\\\\n",
       "\tCalama &  8.5 & 85.0 & 98.9 & 63.4\\\\\n",
       "\\end{tabular}\n"
      ],
      "text/markdown": [
       "\n",
       "A matrix: 6 × 4 of type dbl\n",
       "\n",
       "| <!--/--> | Pobreza | Material | Alcantarillado | Defuncion |\n",
       "|---|---|---|---|---|\n",
       "| Iquique | 10.2 | 81.8 | 98.8 | 73.0 |\n",
       "| Pica | 12.2 | 71.0 | 94.0 | 45.8 |\n",
       "| Pozo Almonte |  9.8 | 73.1 | 83.5 | 66.7 |\n",
       "| Alto Hospicio | 20.9 | 65.9 | 98.4 | 56.2 |\n",
       "| Huara | 10.0 | 49.0 | 38.9 | 44.4 |\n",
       "| Calama |  8.5 | 85.0 | 98.9 | 63.4 |\n",
       "\n"
      ],
      "text/plain": [
       "              Pobreza Material Alcantarillado Defuncion\n",
       "Iquique       10.2    81.8     98.8           73.0     \n",
       "Pica          12.2    71.0     94.0           45.8     \n",
       "Pozo Almonte   9.8    73.1     83.5           66.7     \n",
       "Alto Hospicio 20.9    65.9     98.4           56.2     \n",
       "Huara         10.0    49.0     38.9           44.4     \n",
       "Calama         8.5    85.0     98.9           63.4     "
      ]
     },
     "metadata": {},
     "output_type": "display_data"
    }
   ],
   "source": [
    "conjunto1 <- datos2[, c(4,6,7,11)]\n",
    "colnames(conjunto1) <- c('Pobreza','Material','Alcantarillado','Defuncion')\n",
    "row.names(conjunto1) <- datos[,2]\n",
    "head(conjunto1)"
   ]
  },
  {
   "cell_type": "code",
   "execution_count": 17,
   "metadata": {
    "scrolled": false
   },
   "outputs": [
    {
     "data": {
      "image/png": "[encoded data removed]",
      "text/plain": [
       "Plot with title \"Escala Porcentaje\""
      ]
     },
     "metadata": {
      "image/png": {
       "height": 420,
       "width": 420
      },
      "text/plain": {
       "height": 420,
       "width": 420
      }
     },
     "output_type": "display_data"
    }
   ],
   "source": [
    "boxplot(conjunto1, main = 'Escala Porcentaje')"
   ]
  },
  {
   "cell_type": "code",
   "execution_count": 18,
   "metadata": {},
   "outputs": [
    {
     "data": {
      "image/png": "[encoded data removed]",
      "text/plain": [
       "Plot with title \"J v/s k en k-means\""
      ]
     },
     "metadata": {
      "image/png": {
       "height": 420,
       "width": 420
      },
      "text/plain": {
       "height": 420,
       "width": 420
      }
     },
     "output_type": "display_data"
    }
   ],
   "source": [
    "J<-rep(0,20)\n",
    "fin_iter<-20\n",
    "for (k in 1:fin_iter){\n",
    "     cl<-kmeans(conjunto1,k,iter.max=1000,nstart=10)\n",
    "\t J[k]<-cl$tot.withinss\n",
    "}\n",
    "\n",
    "\n",
    "plot(1:fin_iter,J,xlab=\"k\",ylab=\"J\",type=\"p\",main=\"J v/s k en k-means\",col=2) "
   ]
  },
  {
   "cell_type": "code",
   "execution_count": 19,
   "metadata": {},
   "outputs": [
    {
     "data": {
      "text/html": [
       "4"
      ],
      "text/latex": [
       "4"
      ],
      "text/markdown": [
       "4"
      ],
      "text/plain": [
       "[1] 4"
      ]
     },
     "metadata": {},
     "output_type": "display_data"
    }
   ],
   "source": [
    "ki_1<-kideal(J,0.1)\n",
    "ki_1"
   ]
  },
  {
   "cell_type": "code",
   "execution_count": 20,
   "metadata": {},
   "outputs": [
    {
     "data": {
      "image/png": "[encoded data removed]",
      "text/plain": [
       "plot without title"
      ]
     },
     "metadata": {
      "image/png": {
       "height": 420,
       "width": 420
      },
      "text/plain": {
       "height": 420,
       "width": 420
      }
     },
     "output_type": "display_data"
    }
   ],
   "source": [
    "cl<-kmeans(conjunto1,ki_1,iter.max=1000,nstart=10)\n",
    "#grafica los datos coloreados con el grupo asignado en planos de pares de variables\n",
    "pairs(conjunto1,col=cl$cluster)"
   ]
  },
  {
   "cell_type": "markdown",
   "metadata": {},
   "source": [
    "De lo anterior, podemos destacar la relación entre Alcantarilla, Pobreza y Material, la cual es notoria por la influencia de la situación socioeconómica entre  menor sea el índice de pobreza mejor infraestructura pueden permitirse las personas de esos segmentos. Mientras que la defunción provee poca información y una alta varianza para todas sus comparaciones."
   ]
  },
  {
   "cell_type": "markdown",
   "metadata": {},
   "source": [
    "---"
   ]
  },
  {
   "cell_type": "markdown",
   "metadata": {},
   "source": [
    "**Conjunto 2** \n",
    "* Poblacion en miles de habitantes\n",
    "* Ingreso Mensual por persona(miles $)\n",
    "* Tasa de AVVP x1000 horas\n",
    "* Mortalidad infantil X1000 NV"
   ]
  },
  {
   "cell_type": "code",
   "execution_count": 21,
   "metadata": {
    "scrolled": false
   },
   "outputs": [
    {
     "data": {
      "text/html": [
       "<table>\n",
       "<caption>A matrix: 6 × 4 of type dbl</caption>\n",
       "<thead>\n",
       "\t<tr><th></th><th scope=col>Poblacion</th><th scope=col>Ingreso</th><th scope=col>AVVP</th><th scope=col>M.Infantil</th></tr>\n",
       "</thead>\n",
       "<tbody>\n",
       "\t<tr><th scope=row>Iquique</th><td>186.0</td><td>227.6</td><td>82.1</td><td>8.9</td></tr>\n",
       "\t<tr><th scope=row>Pica</th><td> 18.6</td><td>188.1</td><td>23.0</td><td>9.8</td></tr>\n",
       "\t<tr><th scope=row>Pozo Almonte</th><td> 17.3</td><td>176.0</td><td>44.3</td><td>7.1</td></tr>\n",
       "\t<tr><th scope=row>Alto Hospicio</th><td> 93.8</td><td>166.3</td><td>46.7</td><td>4.9</td></tr>\n",
       "\t<tr><th scope=row>Huara</th><td>  3.4</td><td>161.4</td><td>55.8</td><td>8.9</td></tr>\n",
       "\t<tr><th scope=row>Calama</th><td>148.8</td><td>269.3</td><td>87.2</td><td>9.7</td></tr>\n",
       "</tbody>\n",
       "</table>\n"
      ],
      "text/latex": [
       "A matrix: 6 × 4 of type dbl\n",
       "\\begin{tabular}{r|llll}\n",
       "  & Poblacion & Ingreso & AVVP & M.Infantil\\\\\n",
       "\\hline\n",
       "\tIquique & 186.0 & 227.6 & 82.1 & 8.9\\\\\n",
       "\tPica &  18.6 & 188.1 & 23.0 & 9.8\\\\\n",
       "\tPozo Almonte &  17.3 & 176.0 & 44.3 & 7.1\\\\\n",
       "\tAlto Hospicio &  93.8 & 166.3 & 46.7 & 4.9\\\\\n",
       "\tHuara &   3.4 & 161.4 & 55.8 & 8.9\\\\\n",
       "\tCalama & 148.8 & 269.3 & 87.2 & 9.7\\\\\n",
       "\\end{tabular}\n"
      ],
      "text/markdown": [
       "\n",
       "A matrix: 6 × 4 of type dbl\n",
       "\n",
       "| <!--/--> | Poblacion | Ingreso | AVVP | M.Infantil |\n",
       "|---|---|---|---|---|\n",
       "| Iquique | 186.0 | 227.6 | 82.1 | 8.9 |\n",
       "| Pica |  18.6 | 188.1 | 23.0 | 9.8 |\n",
       "| Pozo Almonte |  17.3 | 176.0 | 44.3 | 7.1 |\n",
       "| Alto Hospicio |  93.8 | 166.3 | 46.7 | 4.9 |\n",
       "| Huara |   3.4 | 161.4 | 55.8 | 8.9 |\n",
       "| Calama | 148.8 | 269.3 | 87.2 | 9.7 |\n",
       "\n"
      ],
      "text/plain": [
       "              Poblacion Ingreso AVVP M.Infantil\n",
       "Iquique       186.0     227.6   82.1 8.9       \n",
       "Pica           18.6     188.1   23.0 9.8       \n",
       "Pozo Almonte   17.3     176.0   44.3 7.1       \n",
       "Alto Hospicio  93.8     166.3   46.7 4.9       \n",
       "Huara           3.4     161.4   55.8 8.9       \n",
       "Calama        148.8     269.3   87.2 9.7       "
      ]
     },
     "metadata": {},
     "output_type": "display_data"
    }
   ],
   "source": [
    "conjunto2 <- datos2[, c(1,3,10,12)]\n",
    "colnames(conjunto2) <- c('Poblacion','Ingreso','AVVP','M.Infantil')\n",
    "row.names(conjunto2) <- datos[,2]\n",
    "head(conjunto2)"
   ]
  },
  {
   "cell_type": "code",
   "execution_count": 22,
   "metadata": {},
   "outputs": [
    {
     "data": {
      "image/png": "[encoded data removed]",
      "text/plain": [
       "Plot with title \"Escala Miles\""
      ]
     },
     "metadata": {
      "image/png": {
       "height": 420,
       "width": 420
      },
      "text/plain": {
       "height": 420,
       "width": 420
      }
     },
     "output_type": "display_data"
    }
   ],
   "source": [
    "boxplot(conjunto2, main = 'Escala Miles')"
   ]
  },
  {
   "cell_type": "code",
   "execution_count": 23,
   "metadata": {},
   "outputs": [
    {
     "data": {
      "image/png": "[encoded data removed]",
      "text/plain": [
       "Plot with title \"J v/s k en k-means\""
      ]
     },
     "metadata": {
      "image/png": {
       "height": 420,
       "width": 420
      },
      "text/plain": {
       "height": 420,
       "width": 420
      }
     },
     "output_type": "display_data"
    }
   ],
   "source": [
    "J<-rep(0,20)\n",
    "fin_iter<-20\n",
    "for (k in 1:fin_iter){\n",
    "     cl<-kmeans(conjunto2,k,iter.max=1000,nstart=10)\n",
    "\t J[k]<-cl$tot.withinss\n",
    "}\n",
    "\n",
    "\n",
    "plot(1:fin_iter,J,xlab=\"k\",ylab=\"J\",type=\"p\",main=\"J v/s k en k-means\",col=2) "
   ]
  },
  {
   "cell_type": "code",
   "execution_count": 24,
   "metadata": {},
   "outputs": [
    {
     "data": {
      "text/html": [
       "7"
      ],
      "text/latex": [
       "7"
      ],
      "text/markdown": [
       "7"
      ],
      "text/plain": [
       "[1] 7"
      ]
     },
     "metadata": {},
     "output_type": "display_data"
    }
   ],
   "source": [
    "ki_2<-kideal(J,0.23)\n",
    "ki_2"
   ]
  },
  {
   "cell_type": "code",
   "execution_count": 25,
   "metadata": {},
   "outputs": [
    {
     "data": {
      "image/png": "[encoded data removed]",
      "text/plain": [
       "plot without title"
      ]
     },
     "metadata": {
      "image/png": {
       "height": 420,
       "width": 420
      },
      "text/plain": {
       "height": 420,
       "width": 420
      }
     },
     "output_type": "display_data"
    }
   ],
   "source": [
    "cl<-kmeans(conjunto2,ki_2,iter.max=1000,nstart=10)\n",
    "#grafica los datos coloreados con el grupo asignado en planos de pares de variables\n",
    "pairs(conjunto2,col=cl$cluster)"
   ]
  },
  {
   "cell_type": "markdown",
   "metadata": {},
   "source": [
    "En este caso la diferenciación entre variables no es del todo explícita, principalmente debido a que la problemática que se puede analizar (como lo es la muerte infantil o prematura de la población) es transversal a los distintos niveles socioeconómicos pero bastante relacionada al tamaño de la población, concentrándose los datos en aquellas comunas con menos de 100mil habitantes.\n",
    "\n",
    "A su vez, de los registros con mayores ingresos que se escapan de los grupos concentrados, se puede observar que presentan índices de mortalidad igual de elevados. \n"
   ]
  },
  {
   "cell_type": "markdown",
   "metadata": {},
   "source": [
    "**Conjunto 3**\n",
    "* IDSE\n",
    "* Escolaridad\n",
    "* Índice de desarrollo Humano\n",
    "* Esperanza de vida al nacer)**"
   ]
  },
  {
   "cell_type": "code",
   "execution_count": 26,
   "metadata": {},
   "outputs": [
    {
     "data": {
      "text/html": [
       "<table>\n",
       "<caption>A matrix: 6 × 4 of type dbl</caption>\n",
       "<thead>\n",
       "\t<tr><th></th><th scope=col>IDSE</th><th scope=col>Escolaridad</th><th scope=col>IDH</th><th scope=col>Esperanza.V</th></tr>\n",
       "</thead>\n",
       "<tbody>\n",
       "\t<tr><th scope=row>Iquique</th><td>0.698</td><td>11.1</td><td>0.631</td><td>77.2</td></tr>\n",
       "\t<tr><th scope=row>Pica</th><td>0.604</td><td> 9.6</td><td>0.572</td><td>77.5</td></tr>\n",
       "\t<tr><th scope=row>Pozo Almonte</th><td>0.591</td><td> 9.7</td><td>0.574</td><td>77.3</td></tr>\n",
       "\t<tr><th scope=row>Alto Hospicio</th><td>0.577</td><td>10.1</td><td>0.555</td><td>78.1</td></tr>\n",
       "\t<tr><th scope=row>Huara</th><td>0.382</td><td> 7.6</td><td>0.592</td><td>81.8</td></tr>\n",
       "\t<tr><th scope=row>Calama</th><td>0.717</td><td>10.9</td><td>0.625</td><td>76.2</td></tr>\n",
       "</tbody>\n",
       "</table>\n"
      ],
      "text/latex": [
       "A matrix: 6 × 4 of type dbl\n",
       "\\begin{tabular}{r|llll}\n",
       "  & IDSE & Escolaridad & IDH & Esperanza.V\\\\\n",
       "\\hline\n",
       "\tIquique & 0.698 & 11.1 & 0.631 & 77.2\\\\\n",
       "\tPica & 0.604 &  9.6 & 0.572 & 77.5\\\\\n",
       "\tPozo Almonte & 0.591 &  9.7 & 0.574 & 77.3\\\\\n",
       "\tAlto Hospicio & 0.577 & 10.1 & 0.555 & 78.1\\\\\n",
       "\tHuara & 0.382 &  7.6 & 0.592 & 81.8\\\\\n",
       "\tCalama & 0.717 & 10.9 & 0.625 & 76.2\\\\\n",
       "\\end{tabular}\n"
      ],
      "text/markdown": [
       "\n",
       "A matrix: 6 × 4 of type dbl\n",
       "\n",
       "| <!--/--> | IDSE | Escolaridad | IDH | Esperanza.V |\n",
       "|---|---|---|---|---|\n",
       "| Iquique | 0.698 | 11.1 | 0.631 | 77.2 |\n",
       "| Pica | 0.604 |  9.6 | 0.572 | 77.5 |\n",
       "| Pozo Almonte | 0.591 |  9.7 | 0.574 | 77.3 |\n",
       "| Alto Hospicio | 0.577 | 10.1 | 0.555 | 78.1 |\n",
       "| Huara | 0.382 |  7.6 | 0.592 | 81.8 |\n",
       "| Calama | 0.717 | 10.9 | 0.625 | 76.2 |\n",
       "\n"
      ],
      "text/plain": [
       "              IDSE  Escolaridad IDH   Esperanza.V\n",
       "Iquique       0.698 11.1        0.631 77.2       \n",
       "Pica          0.604  9.6        0.572 77.5       \n",
       "Pozo Almonte  0.591  9.7        0.574 77.3       \n",
       "Alto Hospicio 0.577 10.1        0.555 78.1       \n",
       "Huara         0.382  7.6        0.592 81.8       \n",
       "Calama        0.717 10.9        0.625 76.2       "
      ]
     },
     "metadata": {},
     "output_type": "display_data"
    }
   ],
   "source": [
    "conjunto3 <- datos2[, c(2,5,9,8)]\n",
    "colnames(conjunto3) <- c('IDSE','Escolaridad','IDH','Esperanza.V')\n",
    "row.names(conjunto3) <- datos[,2]\n",
    "head(conjunto3)"
   ]
  },
  {
   "cell_type": "code",
   "execution_count": 27,
   "metadata": {
    "scrolled": false
   },
   "outputs": [
    {
     "data": {
      "image/png": "[encoded data removed]",
      "text/plain": [
       "Plot with title \"Índices\""
      ]
     },
     "metadata": {
      "image/png": {
       "height": 420,
       "width": 420
      },
      "text/plain": {
       "height": 420,
       "width": 420
      }
     },
     "output_type": "display_data"
    }
   ],
   "source": [
    "boxplot(conjunto3, main = 'Índices')"
   ]
  },
  {
   "cell_type": "code",
   "execution_count": 28,
   "metadata": {
    "scrolled": false
   },
   "outputs": [
    {
     "data": {
      "image/png": "[encoded data removed]",
      "text/plain": [
       "Plot with title \"J v/s k en k-means\""
      ]
     },
     "metadata": {
      "image/png": {
       "height": 420,
       "width": 420
      },
      "text/plain": {
       "height": 420,
       "width": 420
      }
     },
     "output_type": "display_data"
    }
   ],
   "source": [
    "J<-rep(0,20)\n",
    "fin_iter<-20\n",
    "for (k in 1:fin_iter){\n",
    "     cl<-kmeans(conjunto3,k,iter.max=1000,nstart=10)\n",
    "\t J[k]<-cl$tot.withinss\n",
    "}\n",
    "\n",
    "\n",
    "plot(1:fin_iter,J,xlab=\"k\",ylab=\"J\",type=\"p\",main=\"J v/s k en k-means\",col=2) "
   ]
  },
  {
   "cell_type": "code",
   "execution_count": 29,
   "metadata": {},
   "outputs": [
    {
     "data": {
      "text/html": [
       "5"
      ],
      "text/latex": [
       "5"
      ],
      "text/markdown": [
       "5"
      ],
      "text/plain": [
       "[1] 5"
      ]
     },
     "metadata": {},
     "output_type": "display_data"
    }
   ],
   "source": [
    "ki_3<-kideal(J,0.18)\n",
    "ki_3"
   ]
  },
  {
   "cell_type": "code",
   "execution_count": 30,
   "metadata": {},
   "outputs": [
    {
     "data": {
      "image/png": "[encoded data removed]",
      "text/plain": [
       "plot without title"
      ]
     },
     "metadata": {
      "image/png": {
       "height": 420,
       "width": 420
      },
      "text/plain": {
       "height": 420,
       "width": 420
      }
     },
     "output_type": "display_data"
    }
   ],
   "source": [
    "cl<-kmeans(conjunto3,ki_3,iter.max=1000,nstart=10)\n",
    "#grafica los datos coloreados con el grupo asignado en planos de pares de variables\n",
    "pairs(conjunto3,col=cl$cluster)"
   ]
  },
  {
   "cell_type": "markdown",
   "metadata": {},
   "source": [
    "Por último, analizando los 4 elementos restantes, podemos observar una relación linear bastante predominantes entre el **índice de desarrollo humano** contra los otros tres datos. A más nivel de desarrollo, mayor posibilidad de acceso a condiciones dignas, una esperanza de vida más larga y mayores oportunidades socioeconómicas para la comuna, pudiendo registrar 5 grupos notorios en muchas de las comparaciones."
   ]
  },
  {
   "cell_type": "markdown",
   "metadata": {},
   "source": [
    "#### **Respuesta 2.3**"
   ]
  },
  {
   "cell_type": "markdown",
   "metadata": {},
   "source": [
    "A partir del estudio anterior, queda claro que no existe un elemento predominanante en la caracterización de los posibles agrupamientos si hablamos de todos los datos, por lo que a la hora de estudiarlos, es necesario hacer una selección precisa de las variables asociadas a un problema en concreto.\n",
    "\n",
    "Habiendo dicho esto, sí es posible determinar que variables tienen predominancia si se quiere analizar el estado socioeconómico de una comuna como lo hace el **índice de desarrollo humano** (con el potencial de un sector), la **pobreza** (con los tópicos de infraestructura asociados) y por último la **escolaridad**, que marca el futuro de muchos sectores limitando o abriendo oportunidades de mejores condiciones dignas."
   ]
  }
 ],
 "metadata": {
  "celltoolbar": "Raw Cell Format",
  "kernelspec": {
   "display_name": "R",
   "language": "R",
   "name": "ir"
  },
  "language_info": {
   "codemirror_mode": "r",
   "file_extension": ".r",
   "mimetype": "text/x-r-source",
   "name": "R",
   "pygments_lexer": "r",
   "version": "4.0.0"
  }
 },
 "nbformat": 4,
 "nbformat_minor": 2
}
